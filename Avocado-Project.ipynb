{
 "cells": [
  {
   "cell_type": "markdown",
   "metadata": {},
   "source": [
    "# Avocado Dataset\n",
    "\n",
    "Lets start this project by importing some libraries first!"
   ]
  },
  {
   "cell_type": "code",
   "execution_count": 1,
   "metadata": {},
   "outputs": [],
   "source": [
    "import pandas as pd\n",
    "import numpy as np\n",
    "import matplotlib.pyplot as plt\n",
    "import seaborn as sns\n",
    "from scipy.stats import zscore,boxcox\n",
    "from numpy import sqrt,log\n",
    "from sklearn.model_selection import GridSearchCV,cross_val_score,train_test_split,KFold\n",
    "from sklearn.linear_model    import Lasso,Ridge,RidgeClassifier,LassoCV,SGDClassifier,SGDRegressor\n",
    "from sklearn.preprocessing import LabelEncoder,StandardScaler,minmax_scale\n",
    "from sklearn.pipeline import Pipeline\n",
    "from sklearn.linear_model import LogisticRegression,LinearRegression\n",
    "from sklearn.neighbors import KNeighborsClassifier,KNeighborsRegressor\n",
    "from sklearn.naive_bayes import GaussianNB,MultinomialNB,BaseNB\n",
    "from sklearn.svm import SVC,SVR\n",
    "from sklearn.ensemble import AdaBoostClassifier,AdaBoostRegressor,GradientBoostingClassifier,ExtraTreesClassifier\n",
    "from sklearn.ensemble import RandomForestClassifier,RandomForestRegressor,GradientBoostingRegressor,ExtraTreesRegressor\n",
    "from sklearn.tree import DecisionTreeClassifier,DecisionTreeRegressor\n",
    "from sklearn.metrics import mean_absolute_error,mean_squared_error,r2_score\n",
    "from sklearn.metrics import accuracy_score,confusion_matrix,f1_score,classification_report,auc,roc_curve,roc_auc_score\n",
    "import warnings\n",
    "warnings.filterwarnings('ignore')"
   ]
  },
  {
   "cell_type": "code",
   "execution_count": null,
   "metadata": {},
   "outputs": [],
   "source": []
  },
  {
   "cell_type": "code",
   "execution_count": 2,
   "metadata": {},
   "outputs": [
    {
     "data": {
      "text/html": [
       "<div>\n",
       "<style scoped>\n",
       "    .dataframe tbody tr th:only-of-type {\n",
       "        vertical-align: middle;\n",
       "    }\n",
       "\n",
       "    .dataframe tbody tr th {\n",
       "        vertical-align: top;\n",
       "    }\n",
       "\n",
       "    .dataframe thead th {\n",
       "        text-align: right;\n",
       "    }\n",
       "</style>\n",
       "<table border=\"1\" class=\"dataframe\">\n",
       "  <thead>\n",
       "    <tr style=\"text-align: right;\">\n",
       "      <th></th>\n",
       "      <th>Unnamed: 0</th>\n",
       "      <th>Date</th>\n",
       "      <th>AveragePrice</th>\n",
       "      <th>Total Volume</th>\n",
       "      <th>4046</th>\n",
       "      <th>4225</th>\n",
       "      <th>4770</th>\n",
       "      <th>Total Bags</th>\n",
       "      <th>Small Bags</th>\n",
       "      <th>Large Bags</th>\n",
       "      <th>XLarge Bags</th>\n",
       "      <th>type</th>\n",
       "      <th>year</th>\n",
       "      <th>region</th>\n",
       "    </tr>\n",
       "  </thead>\n",
       "  <tbody>\n",
       "    <tr>\n",
       "      <th>0</th>\n",
       "      <td>0</td>\n",
       "      <td>27-12-2015</td>\n",
       "      <td>1.33</td>\n",
       "      <td>64236.62</td>\n",
       "      <td>1036.74</td>\n",
       "      <td>54454.85</td>\n",
       "      <td>48.16</td>\n",
       "      <td>8696.87</td>\n",
       "      <td>8603.62</td>\n",
       "      <td>93.25</td>\n",
       "      <td>0.00</td>\n",
       "      <td>conventional</td>\n",
       "      <td>2015</td>\n",
       "      <td>Albany</td>\n",
       "    </tr>\n",
       "    <tr>\n",
       "      <th>1</th>\n",
       "      <td>1</td>\n",
       "      <td>20-12-2015</td>\n",
       "      <td>1.35</td>\n",
       "      <td>54876.98</td>\n",
       "      <td>674.28</td>\n",
       "      <td>44638.81</td>\n",
       "      <td>58.33</td>\n",
       "      <td>9505.56</td>\n",
       "      <td>9408.07</td>\n",
       "      <td>97.49</td>\n",
       "      <td>0.00</td>\n",
       "      <td>conventional</td>\n",
       "      <td>2015</td>\n",
       "      <td>Albany</td>\n",
       "    </tr>\n",
       "    <tr>\n",
       "      <th>2</th>\n",
       "      <td>2</td>\n",
       "      <td>13-12-2015</td>\n",
       "      <td>0.93</td>\n",
       "      <td>118220.22</td>\n",
       "      <td>794.70</td>\n",
       "      <td>109149.67</td>\n",
       "      <td>130.50</td>\n",
       "      <td>8145.35</td>\n",
       "      <td>8042.21</td>\n",
       "      <td>103.14</td>\n",
       "      <td>0.00</td>\n",
       "      <td>conventional</td>\n",
       "      <td>2015</td>\n",
       "      <td>Albany</td>\n",
       "    </tr>\n",
       "    <tr>\n",
       "      <th>3</th>\n",
       "      <td>3</td>\n",
       "      <td>06-12-2015</td>\n",
       "      <td>1.08</td>\n",
       "      <td>78992.15</td>\n",
       "      <td>1132.00</td>\n",
       "      <td>71976.41</td>\n",
       "      <td>72.58</td>\n",
       "      <td>5811.16</td>\n",
       "      <td>5677.40</td>\n",
       "      <td>133.76</td>\n",
       "      <td>0.00</td>\n",
       "      <td>conventional</td>\n",
       "      <td>2015</td>\n",
       "      <td>Albany</td>\n",
       "    </tr>\n",
       "    <tr>\n",
       "      <th>4</th>\n",
       "      <td>4</td>\n",
       "      <td>29-11-2015</td>\n",
       "      <td>1.28</td>\n",
       "      <td>51039.60</td>\n",
       "      <td>941.48</td>\n",
       "      <td>43838.39</td>\n",
       "      <td>75.78</td>\n",
       "      <td>6183.95</td>\n",
       "      <td>5986.26</td>\n",
       "      <td>197.69</td>\n",
       "      <td>0.00</td>\n",
       "      <td>conventional</td>\n",
       "      <td>2015</td>\n",
       "      <td>Albany</td>\n",
       "    </tr>\n",
       "    <tr>\n",
       "      <th>...</th>\n",
       "      <td>...</td>\n",
       "      <td>...</td>\n",
       "      <td>...</td>\n",
       "      <td>...</td>\n",
       "      <td>...</td>\n",
       "      <td>...</td>\n",
       "      <td>...</td>\n",
       "      <td>...</td>\n",
       "      <td>...</td>\n",
       "      <td>...</td>\n",
       "      <td>...</td>\n",
       "      <td>...</td>\n",
       "      <td>...</td>\n",
       "      <td>...</td>\n",
       "    </tr>\n",
       "    <tr>\n",
       "      <th>1512</th>\n",
       "      <td>10</td>\n",
       "      <td>16-10-2016</td>\n",
       "      <td>1.39</td>\n",
       "      <td>190846.01</td>\n",
       "      <td>57529.11</td>\n",
       "      <td>56366.66</td>\n",
       "      <td>17531.78</td>\n",
       "      <td>59418.46</td>\n",
       "      <td>48823.53</td>\n",
       "      <td>10354.65</td>\n",
       "      <td>240.28</td>\n",
       "      <td>conventional</td>\n",
       "      <td>2016</td>\n",
       "      <td>Charlotte</td>\n",
       "    </tr>\n",
       "    <tr>\n",
       "      <th>1513</th>\n",
       "      <td>11</td>\n",
       "      <td>09-10-2016</td>\n",
       "      <td>1.51</td>\n",
       "      <td>178235.75</td>\n",
       "      <td>43325.87</td>\n",
       "      <td>52189.61</td>\n",
       "      <td>19419.57</td>\n",
       "      <td>63300.70</td>\n",
       "      <td>54704.14</td>\n",
       "      <td>8596.56</td>\n",
       "      <td>0.00</td>\n",
       "      <td>conventional</td>\n",
       "      <td>2016</td>\n",
       "      <td>Charlotte</td>\n",
       "    </tr>\n",
       "    <tr>\n",
       "      <th>1514</th>\n",
       "      <td>12</td>\n",
       "      <td>02-10-2016</td>\n",
       "      <td>1.48</td>\n",
       "      <td>178410.82</td>\n",
       "      <td>46364.75</td>\n",
       "      <td>52893.38</td>\n",
       "      <td>16736.92</td>\n",
       "      <td>62415.77</td>\n",
       "      <td>53332.61</td>\n",
       "      <td>8258.16</td>\n",
       "      <td>825.00</td>\n",
       "      <td>conventional</td>\n",
       "      <td>2016</td>\n",
       "      <td>Charlotte</td>\n",
       "    </tr>\n",
       "    <tr>\n",
       "      <th>1515</th>\n",
       "      <td>13</td>\n",
       "      <td>25-09-2016</td>\n",
       "      <td>1.47</td>\n",
       "      <td>189131.52</td>\n",
       "      <td>54110.79</td>\n",
       "      <td>53593.58</td>\n",
       "      <td>17495.42</td>\n",
       "      <td>63931.73</td>\n",
       "      <td>55653.47</td>\n",
       "      <td>8278.26</td>\n",
       "      <td>0.00</td>\n",
       "      <td>conventional</td>\n",
       "      <td>2016</td>\n",
       "      <td>Charlotte</td>\n",
       "    </tr>\n",
       "    <tr>\n",
       "      <th>1516</th>\n",
       "      <td>14</td>\n",
       "      <td>18-09-2016</td>\n",
       "      <td>1.43</td>\n",
       "      <td>182978.30</td>\n",
       "      <td>43116.41</td>\n",
       "      <td>54193.42</td>\n",
       "      <td>16563.91</td>\n",
       "      <td>69104.56</td>\n",
       "      <td>57456.21</td>\n",
       "      <td>11648.35</td>\n",
       "      <td>0.00</td>\n",
       "      <td>conventional</td>\n",
       "      <td>2016</td>\n",
       "      <td>Charlotte</td>\n",
       "    </tr>\n",
       "  </tbody>\n",
       "</table>\n",
       "<p>1517 rows × 14 columns</p>\n",
       "</div>"
      ],
      "text/plain": [
       "      Unnamed: 0        Date  AveragePrice  Total Volume      4046       4225  \\\n",
       "0              0  27-12-2015          1.33      64236.62   1036.74   54454.85   \n",
       "1              1  20-12-2015          1.35      54876.98    674.28   44638.81   \n",
       "2              2  13-12-2015          0.93     118220.22    794.70  109149.67   \n",
       "3              3  06-12-2015          1.08      78992.15   1132.00   71976.41   \n",
       "4              4  29-11-2015          1.28      51039.60    941.48   43838.39   \n",
       "...          ...         ...           ...           ...       ...        ...   \n",
       "1512          10  16-10-2016          1.39     190846.01  57529.11   56366.66   \n",
       "1513          11  09-10-2016          1.51     178235.75  43325.87   52189.61   \n",
       "1514          12  02-10-2016          1.48     178410.82  46364.75   52893.38   \n",
       "1515          13  25-09-2016          1.47     189131.52  54110.79   53593.58   \n",
       "1516          14  18-09-2016          1.43     182978.30  43116.41   54193.42   \n",
       "\n",
       "          4770  Total Bags  Small Bags  Large Bags  XLarge Bags          type  \\\n",
       "0        48.16     8696.87     8603.62       93.25         0.00  conventional   \n",
       "1        58.33     9505.56     9408.07       97.49         0.00  conventional   \n",
       "2       130.50     8145.35     8042.21      103.14         0.00  conventional   \n",
       "3        72.58     5811.16     5677.40      133.76         0.00  conventional   \n",
       "4        75.78     6183.95     5986.26      197.69         0.00  conventional   \n",
       "...        ...         ...         ...         ...          ...           ...   \n",
       "1512  17531.78    59418.46    48823.53    10354.65       240.28  conventional   \n",
       "1513  19419.57    63300.70    54704.14     8596.56         0.00  conventional   \n",
       "1514  16736.92    62415.77    53332.61     8258.16       825.00  conventional   \n",
       "1515  17495.42    63931.73    55653.47     8278.26         0.00  conventional   \n",
       "1516  16563.91    69104.56    57456.21    11648.35         0.00  conventional   \n",
       "\n",
       "      year     region  \n",
       "0     2015     Albany  \n",
       "1     2015     Albany  \n",
       "2     2015     Albany  \n",
       "3     2015     Albany  \n",
       "4     2015     Albany  \n",
       "...    ...        ...  \n",
       "1512  2016  Charlotte  \n",
       "1513  2016  Charlotte  \n",
       "1514  2016  Charlotte  \n",
       "1515  2016  Charlotte  \n",
       "1516  2016  Charlotte  \n",
       "\n",
       "[1517 rows x 14 columns]"
      ]
     },
     "execution_count": 2,
     "metadata": {},
     "output_type": "execute_result"
    }
   ],
   "source": [
    "avo=pd.read_csv('avocado.csv')\n",
    "avo=pd.DataFrame(avo)\n",
    "avo"
   ]
  },
  {
   "cell_type": "code",
   "execution_count": 3,
   "metadata": {},
   "outputs": [],
   "source": [
    "avo1=avo.copy()\n",
    "avo2=avo.copy()"
   ]
  },
  {
   "cell_type": "markdown",
   "metadata": {},
   "source": [
    "what i did here is that i made some copy of it so, in any accident i might wont lose the data as i made a copy of it"
   ]
  },
  {
   "cell_type": "code",
   "execution_count": 4,
   "metadata": {},
   "outputs": [
    {
     "data": {
      "text/html": [
       "<div>\n",
       "<style scoped>\n",
       "    .dataframe tbody tr th:only-of-type {\n",
       "        vertical-align: middle;\n",
       "    }\n",
       "\n",
       "    .dataframe tbody tr th {\n",
       "        vertical-align: top;\n",
       "    }\n",
       "\n",
       "    .dataframe thead th {\n",
       "        text-align: right;\n",
       "    }\n",
       "</style>\n",
       "<table border=\"1\" class=\"dataframe\">\n",
       "  <thead>\n",
       "    <tr style=\"text-align: right;\">\n",
       "      <th></th>\n",
       "      <th>Unnamed: 0</th>\n",
       "      <th>Date</th>\n",
       "      <th>AveragePrice</th>\n",
       "      <th>Total Volume</th>\n",
       "      <th>4046</th>\n",
       "      <th>4225</th>\n",
       "      <th>4770</th>\n",
       "      <th>Total Bags</th>\n",
       "      <th>Small Bags</th>\n",
       "      <th>Large Bags</th>\n",
       "      <th>XLarge Bags</th>\n",
       "      <th>type</th>\n",
       "      <th>year</th>\n",
       "      <th>region</th>\n",
       "    </tr>\n",
       "  </thead>\n",
       "  <tbody>\n",
       "    <tr>\n",
       "      <th>0</th>\n",
       "      <td>0</td>\n",
       "      <td>27-12-2015</td>\n",
       "      <td>1.33</td>\n",
       "      <td>64236.62</td>\n",
       "      <td>1036.74</td>\n",
       "      <td>54454.85</td>\n",
       "      <td>48.16</td>\n",
       "      <td>8696.87</td>\n",
       "      <td>8603.62</td>\n",
       "      <td>93.25</td>\n",
       "      <td>0.00</td>\n",
       "      <td>conventional</td>\n",
       "      <td>2015</td>\n",
       "      <td>Albany</td>\n",
       "    </tr>\n",
       "    <tr>\n",
       "      <th>1</th>\n",
       "      <td>1</td>\n",
       "      <td>20-12-2015</td>\n",
       "      <td>1.35</td>\n",
       "      <td>54876.98</td>\n",
       "      <td>674.28</td>\n",
       "      <td>44638.81</td>\n",
       "      <td>58.33</td>\n",
       "      <td>9505.56</td>\n",
       "      <td>9408.07</td>\n",
       "      <td>97.49</td>\n",
       "      <td>0.00</td>\n",
       "      <td>conventional</td>\n",
       "      <td>2015</td>\n",
       "      <td>Albany</td>\n",
       "    </tr>\n",
       "    <tr>\n",
       "      <th>2</th>\n",
       "      <td>2</td>\n",
       "      <td>13-12-2015</td>\n",
       "      <td>0.93</td>\n",
       "      <td>118220.22</td>\n",
       "      <td>794.70</td>\n",
       "      <td>109149.67</td>\n",
       "      <td>130.50</td>\n",
       "      <td>8145.35</td>\n",
       "      <td>8042.21</td>\n",
       "      <td>103.14</td>\n",
       "      <td>0.00</td>\n",
       "      <td>conventional</td>\n",
       "      <td>2015</td>\n",
       "      <td>Albany</td>\n",
       "    </tr>\n",
       "    <tr>\n",
       "      <th>3</th>\n",
       "      <td>3</td>\n",
       "      <td>06-12-2015</td>\n",
       "      <td>1.08</td>\n",
       "      <td>78992.15</td>\n",
       "      <td>1132.00</td>\n",
       "      <td>71976.41</td>\n",
       "      <td>72.58</td>\n",
       "      <td>5811.16</td>\n",
       "      <td>5677.40</td>\n",
       "      <td>133.76</td>\n",
       "      <td>0.00</td>\n",
       "      <td>conventional</td>\n",
       "      <td>2015</td>\n",
       "      <td>Albany</td>\n",
       "    </tr>\n",
       "    <tr>\n",
       "      <th>4</th>\n",
       "      <td>4</td>\n",
       "      <td>29-11-2015</td>\n",
       "      <td>1.28</td>\n",
       "      <td>51039.60</td>\n",
       "      <td>941.48</td>\n",
       "      <td>43838.39</td>\n",
       "      <td>75.78</td>\n",
       "      <td>6183.95</td>\n",
       "      <td>5986.26</td>\n",
       "      <td>197.69</td>\n",
       "      <td>0.00</td>\n",
       "      <td>conventional</td>\n",
       "      <td>2015</td>\n",
       "      <td>Albany</td>\n",
       "    </tr>\n",
       "    <tr>\n",
       "      <th>...</th>\n",
       "      <td>...</td>\n",
       "      <td>...</td>\n",
       "      <td>...</td>\n",
       "      <td>...</td>\n",
       "      <td>...</td>\n",
       "      <td>...</td>\n",
       "      <td>...</td>\n",
       "      <td>...</td>\n",
       "      <td>...</td>\n",
       "      <td>...</td>\n",
       "      <td>...</td>\n",
       "      <td>...</td>\n",
       "      <td>...</td>\n",
       "      <td>...</td>\n",
       "    </tr>\n",
       "    <tr>\n",
       "      <th>1512</th>\n",
       "      <td>10</td>\n",
       "      <td>16-10-2016</td>\n",
       "      <td>1.39</td>\n",
       "      <td>190846.01</td>\n",
       "      <td>57529.11</td>\n",
       "      <td>56366.66</td>\n",
       "      <td>17531.78</td>\n",
       "      <td>59418.46</td>\n",
       "      <td>48823.53</td>\n",
       "      <td>10354.65</td>\n",
       "      <td>240.28</td>\n",
       "      <td>conventional</td>\n",
       "      <td>2016</td>\n",
       "      <td>Charlotte</td>\n",
       "    </tr>\n",
       "    <tr>\n",
       "      <th>1513</th>\n",
       "      <td>11</td>\n",
       "      <td>09-10-2016</td>\n",
       "      <td>1.51</td>\n",
       "      <td>178235.75</td>\n",
       "      <td>43325.87</td>\n",
       "      <td>52189.61</td>\n",
       "      <td>19419.57</td>\n",
       "      <td>63300.70</td>\n",
       "      <td>54704.14</td>\n",
       "      <td>8596.56</td>\n",
       "      <td>0.00</td>\n",
       "      <td>conventional</td>\n",
       "      <td>2016</td>\n",
       "      <td>Charlotte</td>\n",
       "    </tr>\n",
       "    <tr>\n",
       "      <th>1514</th>\n",
       "      <td>12</td>\n",
       "      <td>02-10-2016</td>\n",
       "      <td>1.48</td>\n",
       "      <td>178410.82</td>\n",
       "      <td>46364.75</td>\n",
       "      <td>52893.38</td>\n",
       "      <td>16736.92</td>\n",
       "      <td>62415.77</td>\n",
       "      <td>53332.61</td>\n",
       "      <td>8258.16</td>\n",
       "      <td>825.00</td>\n",
       "      <td>conventional</td>\n",
       "      <td>2016</td>\n",
       "      <td>Charlotte</td>\n",
       "    </tr>\n",
       "    <tr>\n",
       "      <th>1515</th>\n",
       "      <td>13</td>\n",
       "      <td>25-09-2016</td>\n",
       "      <td>1.47</td>\n",
       "      <td>189131.52</td>\n",
       "      <td>54110.79</td>\n",
       "      <td>53593.58</td>\n",
       "      <td>17495.42</td>\n",
       "      <td>63931.73</td>\n",
       "      <td>55653.47</td>\n",
       "      <td>8278.26</td>\n",
       "      <td>0.00</td>\n",
       "      <td>conventional</td>\n",
       "      <td>2016</td>\n",
       "      <td>Charlotte</td>\n",
       "    </tr>\n",
       "    <tr>\n",
       "      <th>1516</th>\n",
       "      <td>14</td>\n",
       "      <td>18-09-2016</td>\n",
       "      <td>1.43</td>\n",
       "      <td>182978.30</td>\n",
       "      <td>43116.41</td>\n",
       "      <td>54193.42</td>\n",
       "      <td>16563.91</td>\n",
       "      <td>69104.56</td>\n",
       "      <td>57456.21</td>\n",
       "      <td>11648.35</td>\n",
       "      <td>0.00</td>\n",
       "      <td>conventional</td>\n",
       "      <td>2016</td>\n",
       "      <td>Charlotte</td>\n",
       "    </tr>\n",
       "  </tbody>\n",
       "</table>\n",
       "<p>1517 rows × 14 columns</p>\n",
       "</div>"
      ],
      "text/plain": [
       "      Unnamed: 0        Date  AveragePrice  Total Volume      4046       4225  \\\n",
       "0              0  27-12-2015          1.33      64236.62   1036.74   54454.85   \n",
       "1              1  20-12-2015          1.35      54876.98    674.28   44638.81   \n",
       "2              2  13-12-2015          0.93     118220.22    794.70  109149.67   \n",
       "3              3  06-12-2015          1.08      78992.15   1132.00   71976.41   \n",
       "4              4  29-11-2015          1.28      51039.60    941.48   43838.39   \n",
       "...          ...         ...           ...           ...       ...        ...   \n",
       "1512          10  16-10-2016          1.39     190846.01  57529.11   56366.66   \n",
       "1513          11  09-10-2016          1.51     178235.75  43325.87   52189.61   \n",
       "1514          12  02-10-2016          1.48     178410.82  46364.75   52893.38   \n",
       "1515          13  25-09-2016          1.47     189131.52  54110.79   53593.58   \n",
       "1516          14  18-09-2016          1.43     182978.30  43116.41   54193.42   \n",
       "\n",
       "          4770  Total Bags  Small Bags  Large Bags  XLarge Bags          type  \\\n",
       "0        48.16     8696.87     8603.62       93.25         0.00  conventional   \n",
       "1        58.33     9505.56     9408.07       97.49         0.00  conventional   \n",
       "2       130.50     8145.35     8042.21      103.14         0.00  conventional   \n",
       "3        72.58     5811.16     5677.40      133.76         0.00  conventional   \n",
       "4        75.78     6183.95     5986.26      197.69         0.00  conventional   \n",
       "...        ...         ...         ...         ...          ...           ...   \n",
       "1512  17531.78    59418.46    48823.53    10354.65       240.28  conventional   \n",
       "1513  19419.57    63300.70    54704.14     8596.56         0.00  conventional   \n",
       "1514  16736.92    62415.77    53332.61     8258.16       825.00  conventional   \n",
       "1515  17495.42    63931.73    55653.47     8278.26         0.00  conventional   \n",
       "1516  16563.91    69104.56    57456.21    11648.35         0.00  conventional   \n",
       "\n",
       "      year     region  \n",
       "0     2015     Albany  \n",
       "1     2015     Albany  \n",
       "2     2015     Albany  \n",
       "3     2015     Albany  \n",
       "4     2015     Albany  \n",
       "...    ...        ...  \n",
       "1512  2016  Charlotte  \n",
       "1513  2016  Charlotte  \n",
       "1514  2016  Charlotte  \n",
       "1515  2016  Charlotte  \n",
       "1516  2016  Charlotte  \n",
       "\n",
       "[1517 rows x 14 columns]"
      ]
     },
     "execution_count": 4,
     "metadata": {},
     "output_type": "execute_result"
    }
   ],
   "source": [
    "avo1"
   ]
  },
  {
   "cell_type": "code",
   "execution_count": 17,
   "metadata": {},
   "outputs": [
    {
     "data": {
      "text/plain": [
       "Index(['AveragePrice', 'Total Volume', '4046', '4225', '4770', 'Total Bags',\n",
       "       'Small Bags', 'Large Bags', 'XLarge Bags', 'type', 'year', 'region'],\n",
       "      dtype='object')"
      ]
     },
     "execution_count": 17,
     "metadata": {},
     "output_type": "execute_result"
    }
   ],
   "source": [
    "avo1.columns"
   ]
  },
  {
   "cell_type": "code",
   "execution_count": 5,
   "metadata": {},
   "outputs": [
    {
     "data": {
      "text/plain": [
       "Unnamed: 0        int64\n",
       "Date             object\n",
       "AveragePrice    float64\n",
       "Total Volume    float64\n",
       "4046            float64\n",
       "4225            float64\n",
       "4770            float64\n",
       "Total Bags      float64\n",
       "Small Bags      float64\n",
       "Large Bags      float64\n",
       "XLarge Bags     float64\n",
       "type             object\n",
       "year              int64\n",
       "region           object\n",
       "dtype: object"
      ]
     },
     "execution_count": 5,
     "metadata": {},
     "output_type": "execute_result"
    }
   ],
   "source": [
    "avo1.dtypes"
   ]
  },
  {
   "cell_type": "code",
   "execution_count": 6,
   "metadata": {},
   "outputs": [
    {
     "data": {
      "text/plain": [
       "<bound method DataFrame.info of       Unnamed: 0        Date  AveragePrice  Total Volume      4046       4225  \\\n",
       "0              0  27-12-2015          1.33      64236.62   1036.74   54454.85   \n",
       "1              1  20-12-2015          1.35      54876.98    674.28   44638.81   \n",
       "2              2  13-12-2015          0.93     118220.22    794.70  109149.67   \n",
       "3              3  06-12-2015          1.08      78992.15   1132.00   71976.41   \n",
       "4              4  29-11-2015          1.28      51039.60    941.48   43838.39   \n",
       "...          ...         ...           ...           ...       ...        ...   \n",
       "1512          10  16-10-2016          1.39     190846.01  57529.11   56366.66   \n",
       "1513          11  09-10-2016          1.51     178235.75  43325.87   52189.61   \n",
       "1514          12  02-10-2016          1.48     178410.82  46364.75   52893.38   \n",
       "1515          13  25-09-2016          1.47     189131.52  54110.79   53593.58   \n",
       "1516          14  18-09-2016          1.43     182978.30  43116.41   54193.42   \n",
       "\n",
       "          4770  Total Bags  Small Bags  Large Bags  XLarge Bags          type  \\\n",
       "0        48.16     8696.87     8603.62       93.25         0.00  conventional   \n",
       "1        58.33     9505.56     9408.07       97.49         0.00  conventional   \n",
       "2       130.50     8145.35     8042.21      103.14         0.00  conventional   \n",
       "3        72.58     5811.16     5677.40      133.76         0.00  conventional   \n",
       "4        75.78     6183.95     5986.26      197.69         0.00  conventional   \n",
       "...        ...         ...         ...         ...          ...           ...   \n",
       "1512  17531.78    59418.46    48823.53    10354.65       240.28  conventional   \n",
       "1513  19419.57    63300.70    54704.14     8596.56         0.00  conventional   \n",
       "1514  16736.92    62415.77    53332.61     8258.16       825.00  conventional   \n",
       "1515  17495.42    63931.73    55653.47     8278.26         0.00  conventional   \n",
       "1516  16563.91    69104.56    57456.21    11648.35         0.00  conventional   \n",
       "\n",
       "      year     region  \n",
       "0     2015     Albany  \n",
       "1     2015     Albany  \n",
       "2     2015     Albany  \n",
       "3     2015     Albany  \n",
       "4     2015     Albany  \n",
       "...    ...        ...  \n",
       "1512  2016  Charlotte  \n",
       "1513  2016  Charlotte  \n",
       "1514  2016  Charlotte  \n",
       "1515  2016  Charlotte  \n",
       "1516  2016  Charlotte  \n",
       "\n",
       "[1517 rows x 14 columns]>"
      ]
     },
     "execution_count": 6,
     "metadata": {},
     "output_type": "execute_result"
    }
   ],
   "source": [
    "avo1.info"
   ]
  },
  {
   "cell_type": "markdown",
   "metadata": {},
   "source": [
    "Observation:\n",
    "    \n",
    "        as i can see more clearly by using 'info' method that only the region column has the object type values whihc is string and the rest is in float and int values"
   ]
  },
  {
   "cell_type": "code",
   "execution_count": 7,
   "metadata": {},
   "outputs": [
    {
     "data": {
      "text/plain": [
       "(1517, 14)"
      ]
     },
     "execution_count": 7,
     "metadata": {},
     "output_type": "execute_result"
    }
   ],
   "source": [
    "avo1.shape"
   ]
  },
  {
   "cell_type": "code",
   "execution_count": 8,
   "metadata": {},
   "outputs": [
    {
     "data": {
      "text/plain": [
       "Unnamed: 0      0\n",
       "Date            0\n",
       "AveragePrice    0\n",
       "Total Volume    0\n",
       "4046            0\n",
       "4225            0\n",
       "4770            0\n",
       "Total Bags      0\n",
       "Small Bags      0\n",
       "Large Bags      0\n",
       "XLarge Bags     0\n",
       "type            0\n",
       "year            0\n",
       "region          0\n",
       "dtype: int64"
      ]
     },
     "execution_count": 8,
     "metadata": {},
     "output_type": "execute_result"
    }
   ],
   "source": [
    "avo1.isnull().sum()"
   ]
  },
  {
   "cell_type": "code",
   "execution_count": null,
   "metadata": {},
   "outputs": [],
   "source": []
  },
  {
   "cell_type": "code",
   "execution_count": 9,
   "metadata": {},
   "outputs": [
    {
     "data": {
      "text/plain": [
       "<AxesSubplot:>"
      ]
     },
     "execution_count": 9,
     "metadata": {},
     "output_type": "execute_result"
    },
    {
     "data": {
      "image/png": "[encoded data removed]",
      "text/plain": [
       "<Figure size 432x288 with 1 Axes>"
      ]
     },
     "metadata": {
      "needs_background": "light"
     },
     "output_type": "display_data"
    }
   ],
   "source": [
    "sns.heatmap(avo1.isnull(),yticklabels=False,cmap='viridis',cbar=False)"
   ]
  },
  {
   "cell_type": "markdown",
   "metadata": {},
   "source": [
    "Observation-: what i found from here is that as per the description of the dataset there is column which i am unfamiliar with that is \"Unnamed\" column as per the description provided. So to began out further analysis i am going to drop this particular column, and also for the date column, as per the models for to predict well i also be dropping it"
   ]
  },
  {
   "cell_type": "code",
   "execution_count": 11,
   "metadata": {},
   "outputs": [],
   "source": [
    "avo1.drop('Unnamed: 0',axis=1,inplace=True)\n",
    "avo1.drop('Date',axis=1,inplace=True)"
   ]
  },
  {
   "cell_type": "code",
   "execution_count": 12,
   "metadata": {},
   "outputs": [
    {
     "data": {
      "text/html": [
       "<div>\n",
       "<style scoped>\n",
       "    .dataframe tbody tr th:only-of-type {\n",
       "        vertical-align: middle;\n",
       "    }\n",
       "\n",
       "    .dataframe tbody tr th {\n",
       "        vertical-align: top;\n",
       "    }\n",
       "\n",
       "    .dataframe thead th {\n",
       "        text-align: right;\n",
       "    }\n",
       "</style>\n",
       "<table border=\"1\" class=\"dataframe\">\n",
       "  <thead>\n",
       "    <tr style=\"text-align: right;\">\n",
       "      <th></th>\n",
       "      <th>AveragePrice</th>\n",
       "      <th>Total Volume</th>\n",
       "      <th>4046</th>\n",
       "      <th>4225</th>\n",
       "      <th>4770</th>\n",
       "      <th>Total Bags</th>\n",
       "      <th>Small Bags</th>\n",
       "      <th>Large Bags</th>\n",
       "      <th>XLarge Bags</th>\n",
       "      <th>type</th>\n",
       "      <th>year</th>\n",
       "      <th>region</th>\n",
       "    </tr>\n",
       "  </thead>\n",
       "  <tbody>\n",
       "    <tr>\n",
       "      <th>0</th>\n",
       "      <td>1.33</td>\n",
       "      <td>64236.62</td>\n",
       "      <td>1036.74</td>\n",
       "      <td>54454.85</td>\n",
       "      <td>48.16</td>\n",
       "      <td>8696.87</td>\n",
       "      <td>8603.62</td>\n",
       "      <td>93.25</td>\n",
       "      <td>0.00</td>\n",
       "      <td>conventional</td>\n",
       "      <td>2015</td>\n",
       "      <td>Albany</td>\n",
       "    </tr>\n",
       "    <tr>\n",
       "      <th>1</th>\n",
       "      <td>1.35</td>\n",
       "      <td>54876.98</td>\n",
       "      <td>674.28</td>\n",
       "      <td>44638.81</td>\n",
       "      <td>58.33</td>\n",
       "      <td>9505.56</td>\n",
       "      <td>9408.07</td>\n",
       "      <td>97.49</td>\n",
       "      <td>0.00</td>\n",
       "      <td>conventional</td>\n",
       "      <td>2015</td>\n",
       "      <td>Albany</td>\n",
       "    </tr>\n",
       "    <tr>\n",
       "      <th>2</th>\n",
       "      <td>0.93</td>\n",
       "      <td>118220.22</td>\n",
       "      <td>794.70</td>\n",
       "      <td>109149.67</td>\n",
       "      <td>130.50</td>\n",
       "      <td>8145.35</td>\n",
       "      <td>8042.21</td>\n",
       "      <td>103.14</td>\n",
       "      <td>0.00</td>\n",
       "      <td>conventional</td>\n",
       "      <td>2015</td>\n",
       "      <td>Albany</td>\n",
       "    </tr>\n",
       "    <tr>\n",
       "      <th>3</th>\n",
       "      <td>1.08</td>\n",
       "      <td>78992.15</td>\n",
       "      <td>1132.00</td>\n",
       "      <td>71976.41</td>\n",
       "      <td>72.58</td>\n",
       "      <td>5811.16</td>\n",
       "      <td>5677.40</td>\n",
       "      <td>133.76</td>\n",
       "      <td>0.00</td>\n",
       "      <td>conventional</td>\n",
       "      <td>2015</td>\n",
       "      <td>Albany</td>\n",
       "    </tr>\n",
       "    <tr>\n",
       "      <th>4</th>\n",
       "      <td>1.28</td>\n",
       "      <td>51039.60</td>\n",
       "      <td>941.48</td>\n",
       "      <td>43838.39</td>\n",
       "      <td>75.78</td>\n",
       "      <td>6183.95</td>\n",
       "      <td>5986.26</td>\n",
       "      <td>197.69</td>\n",
       "      <td>0.00</td>\n",
       "      <td>conventional</td>\n",
       "      <td>2015</td>\n",
       "      <td>Albany</td>\n",
       "    </tr>\n",
       "    <tr>\n",
       "      <th>...</th>\n",
       "      <td>...</td>\n",
       "      <td>...</td>\n",
       "      <td>...</td>\n",
       "      <td>...</td>\n",
       "      <td>...</td>\n",
       "      <td>...</td>\n",
       "      <td>...</td>\n",
       "      <td>...</td>\n",
       "      <td>...</td>\n",
       "      <td>...</td>\n",
       "      <td>...</td>\n",
       "      <td>...</td>\n",
       "    </tr>\n",
       "    <tr>\n",
       "      <th>1512</th>\n",
       "      <td>1.39</td>\n",
       "      <td>190846.01</td>\n",
       "      <td>57529.11</td>\n",
       "      <td>56366.66</td>\n",
       "      <td>17531.78</td>\n",
       "      <td>59418.46</td>\n",
       "      <td>48823.53</td>\n",
       "      <td>10354.65</td>\n",
       "      <td>240.28</td>\n",
       "      <td>conventional</td>\n",
       "      <td>2016</td>\n",
       "      <td>Charlotte</td>\n",
       "    </tr>\n",
       "    <tr>\n",
       "      <th>1513</th>\n",
       "      <td>1.51</td>\n",
       "      <td>178235.75</td>\n",
       "      <td>43325.87</td>\n",
       "      <td>52189.61</td>\n",
       "      <td>19419.57</td>\n",
       "      <td>63300.70</td>\n",
       "      <td>54704.14</td>\n",
       "      <td>8596.56</td>\n",
       "      <td>0.00</td>\n",
       "      <td>conventional</td>\n",
       "      <td>2016</td>\n",
       "      <td>Charlotte</td>\n",
       "    </tr>\n",
       "    <tr>\n",
       "      <th>1514</th>\n",
       "      <td>1.48</td>\n",
       "      <td>178410.82</td>\n",
       "      <td>46364.75</td>\n",
       "      <td>52893.38</td>\n",
       "      <td>16736.92</td>\n",
       "      <td>62415.77</td>\n",
       "      <td>53332.61</td>\n",
       "      <td>8258.16</td>\n",
       "      <td>825.00</td>\n",
       "      <td>conventional</td>\n",
       "      <td>2016</td>\n",
       "      <td>Charlotte</td>\n",
       "    </tr>\n",
       "    <tr>\n",
       "      <th>1515</th>\n",
       "      <td>1.47</td>\n",
       "      <td>189131.52</td>\n",
       "      <td>54110.79</td>\n",
       "      <td>53593.58</td>\n",
       "      <td>17495.42</td>\n",
       "      <td>63931.73</td>\n",
       "      <td>55653.47</td>\n",
       "      <td>8278.26</td>\n",
       "      <td>0.00</td>\n",
       "      <td>conventional</td>\n",
       "      <td>2016</td>\n",
       "      <td>Charlotte</td>\n",
       "    </tr>\n",
       "    <tr>\n",
       "      <th>1516</th>\n",
       "      <td>1.43</td>\n",
       "      <td>182978.30</td>\n",
       "      <td>43116.41</td>\n",
       "      <td>54193.42</td>\n",
       "      <td>16563.91</td>\n",
       "      <td>69104.56</td>\n",
       "      <td>57456.21</td>\n",
       "      <td>11648.35</td>\n",
       "      <td>0.00</td>\n",
       "      <td>conventional</td>\n",
       "      <td>2016</td>\n",
       "      <td>Charlotte</td>\n",
       "    </tr>\n",
       "  </tbody>\n",
       "</table>\n",
       "<p>1517 rows × 12 columns</p>\n",
       "</div>"
      ],
      "text/plain": [
       "      AveragePrice  Total Volume      4046       4225      4770  Total Bags  \\\n",
       "0             1.33      64236.62   1036.74   54454.85     48.16     8696.87   \n",
       "1             1.35      54876.98    674.28   44638.81     58.33     9505.56   \n",
       "2             0.93     118220.22    794.70  109149.67    130.50     8145.35   \n",
       "3             1.08      78992.15   1132.00   71976.41     72.58     5811.16   \n",
       "4             1.28      51039.60    941.48   43838.39     75.78     6183.95   \n",
       "...            ...           ...       ...        ...       ...         ...   \n",
       "1512          1.39     190846.01  57529.11   56366.66  17531.78    59418.46   \n",
       "1513          1.51     178235.75  43325.87   52189.61  19419.57    63300.70   \n",
       "1514          1.48     178410.82  46364.75   52893.38  16736.92    62415.77   \n",
       "1515          1.47     189131.52  54110.79   53593.58  17495.42    63931.73   \n",
       "1516          1.43     182978.30  43116.41   54193.42  16563.91    69104.56   \n",
       "\n",
       "      Small Bags  Large Bags  XLarge Bags          type  year     region  \n",
       "0        8603.62       93.25         0.00  conventional  2015     Albany  \n",
       "1        9408.07       97.49         0.00  conventional  2015     Albany  \n",
       "2        8042.21      103.14         0.00  conventional  2015     Albany  \n",
       "3        5677.40      133.76         0.00  conventional  2015     Albany  \n",
       "4        5986.26      197.69         0.00  conventional  2015     Albany  \n",
       "...          ...         ...          ...           ...   ...        ...  \n",
       "1512    48823.53    10354.65       240.28  conventional  2016  Charlotte  \n",
       "1513    54704.14     8596.56         0.00  conventional  2016  Charlotte  \n",
       "1514    53332.61     8258.16       825.00  conventional  2016  Charlotte  \n",
       "1515    55653.47     8278.26         0.00  conventional  2016  Charlotte  \n",
       "1516    57456.21    11648.35         0.00  conventional  2016  Charlotte  \n",
       "\n",
       "[1517 rows x 12 columns]"
      ]
     },
     "execution_count": 12,
     "metadata": {},
     "output_type": "execute_result"
    }
   ],
   "source": [
    "avo1"
   ]
  },
  {
   "cell_type": "markdown",
   "metadata": {},
   "source": [
    "# Data Visualization"
   ]
  },
  {
   "cell_type": "code",
   "execution_count": 13,
   "metadata": {},
   "outputs": [
    {
     "data": {
      "text/html": [
       "<div>\n",
       "<style scoped>\n",
       "    .dataframe tbody tr th:only-of-type {\n",
       "        vertical-align: middle;\n",
       "    }\n",
       "\n",
       "    .dataframe tbody tr th {\n",
       "        vertical-align: top;\n",
       "    }\n",
       "\n",
       "    .dataframe thead th {\n",
       "        text-align: right;\n",
       "    }\n",
       "</style>\n",
       "<table border=\"1\" class=\"dataframe\">\n",
       "  <thead>\n",
       "    <tr style=\"text-align: right;\">\n",
       "      <th></th>\n",
       "      <th>AveragePrice</th>\n",
       "      <th>Total Volume</th>\n",
       "      <th>4046</th>\n",
       "      <th>4225</th>\n",
       "      <th>4770</th>\n",
       "      <th>Total Bags</th>\n",
       "      <th>Small Bags</th>\n",
       "      <th>Large Bags</th>\n",
       "      <th>XLarge Bags</th>\n",
       "      <th>year</th>\n",
       "    </tr>\n",
       "  </thead>\n",
       "  <tbody>\n",
       "    <tr>\n",
       "      <th>count</th>\n",
       "      <td>1517.000000</td>\n",
       "      <td>1.517000e+03</td>\n",
       "      <td>1.517000e+03</td>\n",
       "      <td>1.517000e+03</td>\n",
       "      <td>1.517000e+03</td>\n",
       "      <td>1.517000e+03</td>\n",
       "      <td>1.517000e+03</td>\n",
       "      <td>1.517000e+03</td>\n",
       "      <td>1517.000000</td>\n",
       "      <td>1517.000000</td>\n",
       "    </tr>\n",
       "    <tr>\n",
       "      <th>mean</th>\n",
       "      <td>1.074990</td>\n",
       "      <td>1.601879e+06</td>\n",
       "      <td>6.464387e+05</td>\n",
       "      <td>6.114375e+05</td>\n",
       "      <td>5.040550e+04</td>\n",
       "      <td>2.935974e+05</td>\n",
       "      <td>2.487736e+05</td>\n",
       "      <td>4.264205e+04</td>\n",
       "      <td>2181.771074</td>\n",
       "      <td>2015.162821</td>\n",
       "    </tr>\n",
       "    <tr>\n",
       "      <th>std</th>\n",
       "      <td>0.188891</td>\n",
       "      <td>4.433143e+06</td>\n",
       "      <td>1.947614e+06</td>\n",
       "      <td>1.672906e+06</td>\n",
       "      <td>1.377812e+05</td>\n",
       "      <td>7.579765e+05</td>\n",
       "      <td>6.474765e+05</td>\n",
       "      <td>1.182157e+05</td>\n",
       "      <td>7455.712144</td>\n",
       "      <td>0.369324</td>\n",
       "    </tr>\n",
       "    <tr>\n",
       "      <th>min</th>\n",
       "      <td>0.490000</td>\n",
       "      <td>3.875074e+04</td>\n",
       "      <td>4.677200e+02</td>\n",
       "      <td>1.783770e+03</td>\n",
       "      <td>0.000000e+00</td>\n",
       "      <td>3.311770e+03</td>\n",
       "      <td>3.311770e+03</td>\n",
       "      <td>0.000000e+00</td>\n",
       "      <td>0.000000</td>\n",
       "      <td>2015.000000</td>\n",
       "    </tr>\n",
       "    <tr>\n",
       "      <th>25%</th>\n",
       "      <td>0.980000</td>\n",
       "      <td>1.474700e+05</td>\n",
       "      <td>2.040034e+04</td>\n",
       "      <td>4.147606e+04</td>\n",
       "      <td>9.112500e+02</td>\n",
       "      <td>3.620689e+04</td>\n",
       "      <td>2.972722e+04</td>\n",
       "      <td>5.407400e+02</td>\n",
       "      <td>0.000000</td>\n",
       "      <td>2015.000000</td>\n",
       "    </tr>\n",
       "    <tr>\n",
       "      <th>50%</th>\n",
       "      <td>1.080000</td>\n",
       "      <td>4.027919e+05</td>\n",
       "      <td>8.175117e+04</td>\n",
       "      <td>1.186649e+05</td>\n",
       "      <td>7.688170e+03</td>\n",
       "      <td>7.397906e+04</td>\n",
       "      <td>6.237569e+04</td>\n",
       "      <td>5.044350e+03</td>\n",
       "      <td>0.000000</td>\n",
       "      <td>2015.000000</td>\n",
       "    </tr>\n",
       "    <tr>\n",
       "      <th>75%</th>\n",
       "      <td>1.190000</td>\n",
       "      <td>9.819751e+05</td>\n",
       "      <td>3.775785e+05</td>\n",
       "      <td>4.851503e+05</td>\n",
       "      <td>2.916730e+04</td>\n",
       "      <td>1.576097e+05</td>\n",
       "      <td>1.461994e+05</td>\n",
       "      <td>2.926767e+04</td>\n",
       "      <td>401.480000</td>\n",
       "      <td>2015.000000</td>\n",
       "    </tr>\n",
       "    <tr>\n",
       "      <th>max</th>\n",
       "      <td>1.680000</td>\n",
       "      <td>4.465546e+07</td>\n",
       "      <td>1.893304e+07</td>\n",
       "      <td>1.895648e+07</td>\n",
       "      <td>1.381516e+06</td>\n",
       "      <td>6.736304e+06</td>\n",
       "      <td>5.893642e+06</td>\n",
       "      <td>1.121076e+06</td>\n",
       "      <td>108072.790000</td>\n",
       "      <td>2016.000000</td>\n",
       "    </tr>\n",
       "  </tbody>\n",
       "</table>\n",
       "</div>"
      ],
      "text/plain": [
       "       AveragePrice  Total Volume          4046          4225          4770  \\\n",
       "count   1517.000000  1.517000e+03  1.517000e+03  1.517000e+03  1.517000e+03   \n",
       "mean       1.074990  1.601879e+06  6.464387e+05  6.114375e+05  5.040550e+04   \n",
       "std        0.188891  4.433143e+06  1.947614e+06  1.672906e+06  1.377812e+05   \n",
       "min        0.490000  3.875074e+04  4.677200e+02  1.783770e+03  0.000000e+00   \n",
       "25%        0.980000  1.474700e+05  2.040034e+04  4.147606e+04  9.112500e+02   \n",
       "50%        1.080000  4.027919e+05  8.175117e+04  1.186649e+05  7.688170e+03   \n",
       "75%        1.190000  9.819751e+05  3.775785e+05  4.851503e+05  2.916730e+04   \n",
       "max        1.680000  4.465546e+07  1.893304e+07  1.895648e+07  1.381516e+06   \n",
       "\n",
       "         Total Bags    Small Bags    Large Bags    XLarge Bags         year  \n",
       "count  1.517000e+03  1.517000e+03  1.517000e+03    1517.000000  1517.000000  \n",
       "mean   2.935974e+05  2.487736e+05  4.264205e+04    2181.771074  2015.162821  \n",
       "std    7.579765e+05  6.474765e+05  1.182157e+05    7455.712144     0.369324  \n",
       "min    3.311770e+03  3.311770e+03  0.000000e+00       0.000000  2015.000000  \n",
       "25%    3.620689e+04  2.972722e+04  5.407400e+02       0.000000  2015.000000  \n",
       "50%    7.397906e+04  6.237569e+04  5.044350e+03       0.000000  2015.000000  \n",
       "75%    1.576097e+05  1.461994e+05  2.926767e+04     401.480000  2015.000000  \n",
       "max    6.736304e+06  5.893642e+06  1.121076e+06  108072.790000  2016.000000  "
      ]
     },
     "execution_count": 13,
     "metadata": {},
     "output_type": "execute_result"
    }
   ],
   "source": [
    "avo1.describe()"
   ]
  },
  {
   "cell_type": "markdown",
   "metadata": {},
   "source": [
    "Observation-:\n",
    "\n",
    "        First in the total count section in every column there are total 1517 values which concludes that there are not missing values present in the data rest\n",
    "\n",
    "Now, by obseving more what i got is,\n",
    "\n",
    "       1. AveragePrice- In this column the 'mean' is a bit lower than the 'median', the s.t.d is less and the 75% of the data is lesser than the max\n",
    "        \n",
    "       2. Total Volume- In this column the 'mean' is lower than the 'median', and the s.t.d is quite high than the 'mean', and there's a huge difference between 75% of the and the max, so outliers are present and also huge skewness is present\n",
    "        \n",
    "       3. 4046- In this column, the 'mean' is lower than the 'median', and the s.t.d is also lower than the 'mean', and there's a difference between 75% of the and the max, so the data is not well distributed, outliers are present and also huge skewness is present\n",
    "        \n",
    "       4. 4225- In this column, the 'mean' is quite higher than the 'median', and the s.t.d is lower than the 'mean', and there's a difference between 75% of the and the max, so outliers are present and also huge skewness is present\n",
    "        \n",
    "       5. 4770- In this column, the 'mean' is lower than the 'median', and the s.t.d is lower than the mean, and there's not much of a  difference in between 75% and max data, but the 25% of the data is quite higher than the rest,  so outliers are present and also huge skewness is present\n",
    "        \n",
    "       6. Total Bags- In this column, the 'mean' is quite lower than the 'median', and the s.t.d is quite high than the mean, and there's a huge difference between 75% of the and the max, so outliers are present and also huge skewness is present\n",
    "        \n",
    "       7. Small Bags- In this column, the 'mean' is lower than the 'median', and the s.t.d is quite high, and there's a  difference between 75% of the and the max which is high, so outliers are present and also huge skewness is present\n",
    "        \n",
    "       8. Large Bags- In this column, the 'mean' is higher than the 'median', and the s.t.d is quite high, and there's a huge difference between 75% of the and the max, so outliers are present and also huge skewness is present\n",
    "        "
   ]
  },
  {
   "cell_type": "code",
   "execution_count": null,
   "metadata": {},
   "outputs": [],
   "source": []
  },
  {
   "cell_type": "code",
   "execution_count": 16,
   "metadata": {},
   "outputs": [
    {
     "name": "stdout",
     "output_type": "stream",
     "text": [
      "region\n",
      "Albany                 67\n",
      "Atlanta                54\n",
      "BaltimoreWashington    65\n",
      "Boise                  65\n",
      "Boston                 62\n",
      "BuffaloRochester       51\n",
      "California             76\n",
      "Charlotte              31\n",
      "Chicago                23\n",
      "Columbus               47\n",
      "DallasFtWorth          17\n",
      "Denver                 24\n",
      "Detroit                40\n",
      "GrandRapids            23\n",
      "GreatLakes             18\n",
      "HarrisburgScranton     19\n",
      "HartfordSpringfield    13\n",
      "Houston                29\n",
      "Indianapolis           16\n",
      "Jacksonville           41\n",
      "LasVegas               10\n",
      "LosAngeles              3\n",
      "Louisville             34\n",
      "MiamiFtLauderdale      17\n",
      "Midsouth               18\n",
      "Nashville              25\n",
      "NewYork                44\n",
      "Northeast              12\n",
      "NorthernNewEngland     29\n",
      "Orlando                21\n",
      "Philadelphia           13\n",
      "PhoenixTucson          52\n",
      "Pittsburgh             22\n",
      "Plains                 12\n",
      "Portland               30\n",
      "RaleighGreensboro      16\n",
      "RichmondNorfolk        21\n",
      "Roanoke                17\n",
      "SanDiego               38\n",
      "SanFrancisco           15\n",
      "Seattle                 9\n",
      "SouthCarolina          24\n",
      "SouthCentral           39\n",
      "Southeast               9\n",
      "Spokane                49\n",
      "StLouis                16\n",
      "Syracuse               19\n",
      "Tampa                  34\n",
      "TotalUS                25\n",
      "West                   36\n",
      "WestTexNewMexico       27\n",
      "dtype: int64\n",
      "\n",
      "\n",
      "\n",
      "\n",
      "year\n",
      "2015    1270\n",
      "2016     247\n",
      "dtype: int64\n"
     ]
    }
   ],
   "source": [
    "print(avo1.groupby('region').size())\n",
    "print('\\n')\n",
    "print('\\n')\n",
    "print(avo1.groupby('year').size())"
   ]
  },
  {
   "cell_type": "markdown",
   "metadata": {},
   "source": [
    "From this i have conclude that there are total 51 total cities along with countries places which the data has been distributed overt the places\n",
    "\n",
    "and in year column there most of the oders are from 2015 and at minimum in 2016"
   ]
  },
  {
   "cell_type": "markdown",
   "metadata": {},
   "source": [
    "now, i am going to visualize using box plot method to see the outliers present in each column"
   ]
  },
  {
   "cell_type": "code",
   "execution_count": 25,
   "metadata": {
    "scrolled": true
   },
   "outputs": [
    {
     "data": {
      "image/png": "[encoded data removed]",
      "text/plain": [
       "<Figure size 216x648 with 1 Axes>"
      ]
     },
     "metadata": {
      "needs_background": "light"
     },
     "output_type": "display_data"
    }
   ],
   "source": [
    "plt.figure(figsize=(3,9))\n",
    "avo1['AveragePrice'].plot.box()\n",
    "plt.show()"
   ]
  },
  {
   "cell_type": "code",
   "execution_count": 26,
   "metadata": {
    "scrolled": true
   },
   "outputs": [
    {
     "data": {
      "image/png": "[encoded data removed]",
      "text/plain": [
       "<Figure size 216x648 with 1 Axes>"
      ]
     },
     "metadata": {
      "needs_background": "light"
     },
     "output_type": "display_data"
    }
   ],
   "source": [
    "plt.figure(figsize=(3,9))\n",
    "avo1['Total Volume'].plot.box()\n",
    "plt.show()"
   ]
  },
  {
   "cell_type": "code",
   "execution_count": 27,
   "metadata": {
    "scrolled": true
   },
   "outputs": [
    {
     "data": {
      "image/png": "[encoded data removed]",
      "text/plain": [
       "<Figure size 216x648 with 1 Axes>"
      ]
     },
     "metadata": {
      "needs_background": "light"
     },
     "output_type": "display_data"
    }
   ],
   "source": [
    "plt.figure(figsize=(3,9))\n",
    "avo1['4046'].plot.box()\n",
    "plt.show()"
   ]
  },
  {
   "cell_type": "code",
   "execution_count": 28,
   "metadata": {
    "scrolled": true
   },
   "outputs": [
    {
     "data": {
      "image/png": "[encoded data removed]",
      "text/plain": [
       "<Figure size 216x648 with 1 Axes>"
      ]
     },
     "metadata": {
      "needs_background": "light"
     },
     "output_type": "display_data"
    }
   ],
   "source": [
    "plt.figure(figsize=(3,9))\n",
    "avo1['4225'].plot.box()\n",
    "plt.show()"
   ]
  },
  {
   "cell_type": "code",
   "execution_count": 29,
   "metadata": {
    "scrolled": true
   },
   "outputs": [
    {
     "data": {
      "image/png": "[encoded data removed]",
      "text/plain": [
       "<Figure size 216x648 with 1 Axes>"
      ]
     },
     "metadata": {
      "needs_background": "light"
     },
     "output_type": "display_data"
    }
   ],
   "source": [
    "plt.figure(figsize=(3,9))\n",
    "avo1['4770'].plot.box()\n",
    "plt.show()"
   ]
  },
  {
   "cell_type": "code",
   "execution_count": null,
   "metadata": {},
   "outputs": [],
   "source": []
  },
  {
   "cell_type": "code",
   "execution_count": 30,
   "metadata": {
    "scrolled": true
   },
   "outputs": [
    {
     "data": {
      "image/png": "[encoded data removed]",
      "text/plain": [
       "<Figure size 216x648 with 1 Axes>"
      ]
     },
     "metadata": {
      "needs_background": "light"
     },
     "output_type": "display_data"
    }
   ],
   "source": [
    "plt.figure(figsize=(3,9))\n",
    "avo1['Total Bags'].plot.box()\n",
    "plt.show()"
   ]
  },
  {
   "cell_type": "code",
   "execution_count": 31,
   "metadata": {
    "scrolled": true
   },
   "outputs": [
    {
     "data": {
      "image/png": "[encoded data removed]",
      "text/plain": [
       "<Figure size 216x648 with 1 Axes>"
      ]
     },
     "metadata": {
      "needs_background": "light"
     },
     "output_type": "display_data"
    }
   ],
   "source": [
    "plt.figure(figsize=(3,9))\n",
    "avo1['Small Bags'].plot.box()\n",
    "plt.show()    "
   ]
  },
  {
   "cell_type": "code",
   "execution_count": 32,
   "metadata": {
    "scrolled": true
   },
   "outputs": [
    {
     "data": {
      "image/png": "[encoded data removed]",
      "text/plain": [
       "<Figure size 216x648 with 1 Axes>"
      ]
     },
     "metadata": {
      "needs_background": "light"
     },
     "output_type": "display_data"
    }
   ],
   "source": [
    "plt.figure(figsize=(3,9))\n",
    "avo1['Large Bags'].plot.box()\n",
    "plt.show()     "
   ]
  },
  {
   "cell_type": "code",
   "execution_count": 33,
   "metadata": {
    "scrolled": true
   },
   "outputs": [
    {
     "data": {
      "image/png": "[encoded data removed]",
      "text/plain": [
       "<Figure size 216x648 with 1 Axes>"
      ]
     },
     "metadata": {
      "needs_background": "light"
     },
     "output_type": "display_data"
    }
   ],
   "source": [
    "plt.figure(figsize=(3,9))\n",
    "avo1['XLarge Bags'].plot.box()\n",
    "plt.show()    "
   ]
  },
  {
   "cell_type": "code",
   "execution_count": 34,
   "metadata": {},
   "outputs": [
    {
     "data": {
      "image/png": "[encoded data removed]",
      "text/plain": [
       "<Figure size 1152x864 with 12 Axes>"
      ]
     },
     "metadata": {
      "needs_background": "light"
     },
     "output_type": "display_data"
    }
   ],
   "source": [
    "fig_size=plt.rcParams[\"figure.figsize\"]\n",
    "fig_size[0]=16\n",
    "fig_size[1]=12\n",
    "plt.rcParams[\"figure.figsize\"]=fig_size\n",
    "\n",
    "avo1.hist()\n",
    "plt.show()"
   ]
  },
  {
   "cell_type": "markdown",
   "metadata": {},
   "source": [
    "Observation:\n",
    "        \n",
    "        what i have got from the visual analysis is that there are some huge outliers and skewness present in the dataset\n",
    "        and from the histo plot i can see that all the values has been left skewed except 'Avarage price' column"
   ]
  },
  {
   "cell_type": "code",
   "execution_count": 35,
   "metadata": {},
   "outputs": [
    {
     "data": {
      "text/html": [
       "<div>\n",
       "<style scoped>\n",
       "    .dataframe tbody tr th:only-of-type {\n",
       "        vertical-align: middle;\n",
       "    }\n",
       "\n",
       "    .dataframe tbody tr th {\n",
       "        vertical-align: top;\n",
       "    }\n",
       "\n",
       "    .dataframe thead th {\n",
       "        text-align: right;\n",
       "    }\n",
       "</style>\n",
       "<table border=\"1\" class=\"dataframe\">\n",
       "  <thead>\n",
       "    <tr style=\"text-align: right;\">\n",
       "      <th></th>\n",
       "      <th>AveragePrice</th>\n",
       "      <th>Total Volume</th>\n",
       "      <th>4046</th>\n",
       "      <th>4225</th>\n",
       "      <th>4770</th>\n",
       "      <th>Total Bags</th>\n",
       "      <th>Small Bags</th>\n",
       "      <th>Large Bags</th>\n",
       "      <th>XLarge Bags</th>\n",
       "      <th>year</th>\n",
       "    </tr>\n",
       "  </thead>\n",
       "  <tbody>\n",
       "    <tr>\n",
       "      <th>AveragePrice</th>\n",
       "      <td>1.000000</td>\n",
       "      <td>-0.140470</td>\n",
       "      <td>-0.190096</td>\n",
       "      <td>-0.092084</td>\n",
       "      <td>-0.100567</td>\n",
       "      <td>-0.111597</td>\n",
       "      <td>-0.097682</td>\n",
       "      <td>-0.177480</td>\n",
       "      <td>-0.048284</td>\n",
       "      <td>0.178683</td>\n",
       "    </tr>\n",
       "    <tr>\n",
       "      <th>Total Volume</th>\n",
       "      <td>-0.140470</td>\n",
       "      <td>1.000000</td>\n",
       "      <td>0.985568</td>\n",
       "      <td>0.987154</td>\n",
       "      <td>0.934347</td>\n",
       "      <td>0.967689</td>\n",
       "      <td>0.960642</td>\n",
       "      <td>0.910226</td>\n",
       "      <td>0.521717</td>\n",
       "      <td>-0.004189</td>\n",
       "    </tr>\n",
       "    <tr>\n",
       "      <th>4046</th>\n",
       "      <td>-0.190096</td>\n",
       "      <td>0.985568</td>\n",
       "      <td>1.000000</td>\n",
       "      <td>0.951952</td>\n",
       "      <td>0.898570</td>\n",
       "      <td>0.930395</td>\n",
       "      <td>0.922278</td>\n",
       "      <td>0.884229</td>\n",
       "      <td>0.474063</td>\n",
       "      <td>-0.040439</td>\n",
       "    </tr>\n",
       "    <tr>\n",
       "      <th>4225</th>\n",
       "      <td>-0.092084</td>\n",
       "      <td>0.987154</td>\n",
       "      <td>0.951952</td>\n",
       "      <td>1.000000</td>\n",
       "      <td>0.927757</td>\n",
       "      <td>0.951779</td>\n",
       "      <td>0.943988</td>\n",
       "      <td>0.900496</td>\n",
       "      <td>0.504718</td>\n",
       "      <td>-0.007254</td>\n",
       "    </tr>\n",
       "    <tr>\n",
       "      <th>4770</th>\n",
       "      <td>-0.100567</td>\n",
       "      <td>0.934347</td>\n",
       "      <td>0.898570</td>\n",
       "      <td>0.927757</td>\n",
       "      <td>1.000000</td>\n",
       "      <td>0.926405</td>\n",
       "      <td>0.923607</td>\n",
       "      <td>0.840523</td>\n",
       "      <td>0.646053</td>\n",
       "      <td>0.029222</td>\n",
       "    </tr>\n",
       "    <tr>\n",
       "      <th>Total Bags</th>\n",
       "      <td>-0.111597</td>\n",
       "      <td>0.967689</td>\n",
       "      <td>0.930395</td>\n",
       "      <td>0.951779</td>\n",
       "      <td>0.926405</td>\n",
       "      <td>1.000000</td>\n",
       "      <td>0.997341</td>\n",
       "      <td>0.911336</td>\n",
       "      <td>0.601856</td>\n",
       "      <td>0.090108</td>\n",
       "    </tr>\n",
       "    <tr>\n",
       "      <th>Small Bags</th>\n",
       "      <td>-0.097682</td>\n",
       "      <td>0.960642</td>\n",
       "      <td>0.922278</td>\n",
       "      <td>0.943988</td>\n",
       "      <td>0.923607</td>\n",
       "      <td>0.997341</td>\n",
       "      <td>1.000000</td>\n",
       "      <td>0.879131</td>\n",
       "      <td>0.611300</td>\n",
       "      <td>0.106382</td>\n",
       "    </tr>\n",
       "    <tr>\n",
       "      <th>Large Bags</th>\n",
       "      <td>-0.177480</td>\n",
       "      <td>0.910226</td>\n",
       "      <td>0.884229</td>\n",
       "      <td>0.900496</td>\n",
       "      <td>0.840523</td>\n",
       "      <td>0.911336</td>\n",
       "      <td>0.879131</td>\n",
       "      <td>1.000000</td>\n",
       "      <td>0.447779</td>\n",
       "      <td>-0.018678</td>\n",
       "    </tr>\n",
       "    <tr>\n",
       "      <th>XLarge Bags</th>\n",
       "      <td>-0.048284</td>\n",
       "      <td>0.521717</td>\n",
       "      <td>0.474063</td>\n",
       "      <td>0.504718</td>\n",
       "      <td>0.646053</td>\n",
       "      <td>0.601856</td>\n",
       "      <td>0.611300</td>\n",
       "      <td>0.447779</td>\n",
       "      <td>1.000000</td>\n",
       "      <td>0.218342</td>\n",
       "    </tr>\n",
       "    <tr>\n",
       "      <th>year</th>\n",
       "      <td>0.178683</td>\n",
       "      <td>-0.004189</td>\n",
       "      <td>-0.040439</td>\n",
       "      <td>-0.007254</td>\n",
       "      <td>0.029222</td>\n",
       "      <td>0.090108</td>\n",
       "      <td>0.106382</td>\n",
       "      <td>-0.018678</td>\n",
       "      <td>0.218342</td>\n",
       "      <td>1.000000</td>\n",
       "    </tr>\n",
       "  </tbody>\n",
       "</table>\n",
       "</div>"
      ],
      "text/plain": [
       "              AveragePrice  Total Volume      4046      4225      4770  \\\n",
       "AveragePrice      1.000000     -0.140470 -0.190096 -0.092084 -0.100567   \n",
       "Total Volume     -0.140470      1.000000  0.985568  0.987154  0.934347   \n",
       "4046             -0.190096      0.985568  1.000000  0.951952  0.898570   \n",
       "4225             -0.092084      0.987154  0.951952  1.000000  0.927757   \n",
       "4770             -0.100567      0.934347  0.898570  0.927757  1.000000   \n",
       "Total Bags       -0.111597      0.967689  0.930395  0.951779  0.926405   \n",
       "Small Bags       -0.097682      0.960642  0.922278  0.943988  0.923607   \n",
       "Large Bags       -0.177480      0.910226  0.884229  0.900496  0.840523   \n",
       "XLarge Bags      -0.048284      0.521717  0.474063  0.504718  0.646053   \n",
       "year              0.178683     -0.004189 -0.040439 -0.007254  0.029222   \n",
       "\n",
       "              Total Bags  Small Bags  Large Bags  XLarge Bags      year  \n",
       "AveragePrice   -0.111597   -0.097682   -0.177480    -0.048284  0.178683  \n",
       "Total Volume    0.967689    0.960642    0.910226     0.521717 -0.004189  \n",
       "4046            0.930395    0.922278    0.884229     0.474063 -0.040439  \n",
       "4225            0.951779    0.943988    0.900496     0.504718 -0.007254  \n",
       "4770            0.926405    0.923607    0.840523     0.646053  0.029222  \n",
       "Total Bags      1.000000    0.997341    0.911336     0.601856  0.090108  \n",
       "Small Bags      0.997341    1.000000    0.879131     0.611300  0.106382  \n",
       "Large Bags      0.911336    0.879131    1.000000     0.447779 -0.018678  \n",
       "XLarge Bags     0.601856    0.611300    0.447779     1.000000  0.218342  \n",
       "year            0.090108    0.106382   -0.018678     0.218342  1.000000  "
      ]
     },
     "execution_count": 35,
     "metadata": {},
     "output_type": "execute_result"
    }
   ],
   "source": [
    "avo1.corr()"
   ]
  },
  {
   "cell_type": "code",
   "execution_count": null,
   "metadata": {},
   "outputs": [],
   "source": []
  },
  {
   "cell_type": "code",
   "execution_count": 36,
   "metadata": {},
   "outputs": [
    {
     "data": {
      "image/png": "[encoded data removed]",
      "text/plain": [
       "<Figure size 1080x864 with 2 Axes>"
      ]
     },
     "metadata": {
      "needs_background": "light"
     },
     "output_type": "display_data"
    }
   ],
   "source": [
    "plt.figure(figsize=(15,12))\n",
    "sns.heatmap(avo1.corr(),annot=True,)\n",
    "plt.title('correlation')\n",
    "plt.show()"
   ]
  },
  {
   "cell_type": "markdown",
   "metadata": {},
   "source": [
    "Observation:\n",
    "            \n",
    "        What i got from observing the correlation is that the Avarage price which will be regressor type model is not related with any columns and has mostly negative values with other columns"
   ]
  },
  {
   "cell_type": "code",
   "execution_count": null,
   "metadata": {},
   "outputs": [],
   "source": []
  },
  {
   "cell_type": "markdown",
   "metadata": {},
   "source": [
    "# Data Cleaning"
   ]
  },
  {
   "cell_type": "markdown",
   "metadata": {},
   "source": [
    "first i am going to check how much outliers are present and then i'll remove it, then how much skewness are present in the dataset, then i'll remove it using sqrt and log transformation\n"
   ]
  },
  {
   "cell_type": "markdown",
   "metadata": {},
   "source": [
    "**Removing Outliers**"
   ]
  },
  {
   "cell_type": "code",
   "execution_count": 37,
   "metadata": {},
   "outputs": [
    {
     "name": "stdout",
     "output_type": "stream",
     "text": [
      "(array([ 398,  401,  409,  412,  412,  760, 1016, 1017, 1059, 1182, 1182,\n",
      "       1182, 1182, 1182, 1182, 1182, 1182, 1183, 1183, 1183, 1183, 1183,\n",
      "       1183, 1183, 1184, 1184, 1184, 1184, 1184, 1184, 1184, 1184, 1185,\n",
      "       1185, 1185, 1185, 1185, 1185, 1185, 1186, 1186, 1186, 1186, 1186,\n",
      "       1186, 1186, 1187, 1187, 1187, 1187, 1187, 1187, 1187, 1187, 1188,\n",
      "       1188, 1188, 1188, 1188, 1188, 1188, 1189, 1189, 1189, 1189, 1189,\n",
      "       1189, 1189, 1189, 1190, 1190, 1190, 1190, 1190, 1190, 1190, 1190,\n",
      "       1191, 1191, 1191, 1191, 1191, 1191, 1191, 1191, 1192, 1192, 1192,\n",
      "       1192, 1192, 1192, 1192, 1193, 1193, 1193, 1193, 1193, 1193, 1193,\n",
      "       1194, 1194, 1194, 1194, 1194, 1194, 1194, 1195, 1195, 1195, 1195,\n",
      "       1195, 1195, 1195, 1195, 1196, 1196, 1196, 1196, 1196, 1196, 1196,\n",
      "       1197, 1197, 1197, 1197, 1197, 1197, 1197, 1198, 1198, 1198, 1198,\n",
      "       1198, 1198, 1198, 1198, 1199, 1199, 1199, 1199, 1199, 1199, 1199,\n",
      "       1200, 1200, 1200, 1200, 1200, 1200, 1200, 1201, 1201, 1201, 1201,\n",
      "       1201, 1201, 1201, 1202, 1202, 1202, 1202, 1202, 1202, 1202, 1202,\n",
      "       1203, 1203, 1203, 1203, 1203, 1203, 1203, 1204, 1204, 1204, 1204,\n",
      "       1204, 1204, 1204, 1205, 1205, 1205, 1205, 1205, 1205, 1205, 1206,\n",
      "       1206, 1206, 1206, 1206, 1206, 1206, 1207, 1208, 1209, 1210, 1212,\n",
      "       1213, 1215, 1216, 1217, 1218, 1222, 1411, 1450, 1451, 1452, 1453,\n",
      "       1454, 1455, 1456, 1457, 1457, 1458, 1459, 1460, 1461, 1462, 1463,\n",
      "       1464, 1465, 1466, 1467, 1468, 1469, 1470, 1471, 1472, 1473, 1474,\n",
      "       1475, 1476, 1477, 1478, 1479, 1480, 1481, 1483, 1483, 1484, 1495,\n",
      "       1496, 1496], dtype=int64), array([8, 8, 8, 4, 8, 0, 8, 8, 7, 1, 2, 3, 4, 5, 6, 7, 8, 1, 2, 3, 4, 5,\n",
      "       6, 7, 1, 2, 3, 4, 5, 6, 7, 8, 1, 2, 3, 4, 5, 6, 7, 1, 2, 3, 4, 5,\n",
      "       6, 7, 1, 2, 3, 4, 5, 6, 7, 8, 1, 2, 3, 4, 5, 6, 7, 1, 2, 3, 4, 5,\n",
      "       6, 7, 8, 1, 2, 3, 4, 5, 6, 7, 8, 1, 2, 3, 4, 5, 6, 7, 8, 1, 2, 3,\n",
      "       4, 5, 6, 7, 1, 2, 3, 4, 5, 6, 7, 1, 2, 3, 4, 5, 6, 7, 1, 2, 3, 4,\n",
      "       5, 6, 7, 8, 1, 2, 3, 4, 5, 6, 7, 1, 2, 3, 4, 5, 6, 7, 1, 2, 3, 4,\n",
      "       5, 6, 7, 8, 1, 2, 3, 4, 5, 6, 7, 1, 2, 3, 4, 5, 6, 7, 1, 2, 3, 4,\n",
      "       5, 6, 7, 1, 2, 3, 4, 5, 6, 7, 8, 1, 2, 3, 4, 5, 6, 7, 1, 2, 3, 4,\n",
      "       5, 6, 7, 1, 2, 3, 4, 5, 6, 7, 1, 2, 3, 4, 5, 6, 7, 7, 7, 7, 7, 7,\n",
      "       7, 7, 7, 7, 7, 7, 0, 8, 8, 8, 8, 8, 8, 8, 0, 8, 0, 8, 8, 8, 8, 8,\n",
      "       8, 8, 8, 8, 8, 8, 8, 8, 8, 8, 8, 8, 8, 8, 8, 8, 8, 8, 7, 8, 7, 6,\n",
      "       5, 6], dtype=int64))\n"
     ]
    }
   ],
   "source": [
    "z=np.abs(zscore(avo1.iloc[:,:-3]))\n",
    "threshold=3\n",
    "print(np.where(z>threshold))"
   ]
  },
  {
   "cell_type": "code",
   "execution_count": 38,
   "metadata": {},
   "outputs": [],
   "source": [
    "avo1_new=avo1[(z<3).all(axis=1)]"
   ]
  },
  {
   "cell_type": "code",
   "execution_count": 40,
   "metadata": {},
   "outputs": [
    {
     "name": "stdout",
     "output_type": "stream",
     "text": [
      "(1517, 12)\n"
     ]
    },
    {
     "data": {
      "text/plain": [
       "(1436, 12)"
      ]
     },
     "execution_count": 40,
     "metadata": {},
     "output_type": "execute_result"
    }
   ],
   "source": [
    "#checking out the shape after and removing the outliers and comparing\n",
    "print(avo1.shape)\n",
    "avo1_new.shape"
   ]
  },
  {
   "cell_type": "markdown",
   "metadata": {},
   "source": [
    "**Calculating the percentage loss of all columns**"
   ]
  },
  {
   "cell_type": "code",
   "execution_count": 41,
   "metadata": {},
   "outputs": [
    {
     "data": {
      "text/plain": [
       "5.3394858272907015"
      ]
     },
     "execution_count": 41,
     "metadata": {},
     "output_type": "execute_result"
    }
   ],
   "source": [
    "x=(1436/1517)*100\n",
    "100-x"
   ]
  },
  {
   "cell_type": "markdown",
   "metadata": {},
   "source": [
    "5.3% data has been lost which is normal."
   ]
  },
  {
   "cell_type": "markdown",
   "metadata": {},
   "source": [
    "lets try with another methong using IQR to remove the outliers fully"
   ]
  },
  {
   "cell_type": "code",
   "execution_count": 42,
   "metadata": {},
   "outputs": [
    {
     "name": "stdout",
     "output_type": "stream",
     "text": [
      "AveragePrice         0.21\n",
      "Total Volume    834505.09\n",
      "4046            357178.14\n",
      "4225            443674.28\n",
      "4770             28256.05\n",
      "Total Bags      121402.79\n",
      "Small Bags      116472.13\n",
      "Large Bags       28726.93\n",
      "XLarge Bags        401.48\n",
      "year                 0.00\n",
      "dtype: float64\n"
     ]
    }
   ],
   "source": [
    "Q1=avo1.quantile(0.25)\n",
    "Q3=avo1.quantile(0.75)\n",
    "IQR=Q3-Q1\n",
    "print(IQR)"
   ]
  },
  {
   "cell_type": "code",
   "execution_count": 43,
   "metadata": {
    "scrolled": true
   },
   "outputs": [
    {
     "name": "stdout",
     "output_type": "stream",
     "text": [
      "(881, 12)\n"
     ]
    }
   ],
   "source": [
    "avo1_new2=avo1[~((avo1<(Q1-1.5*IQR))|(avo1>(Q3+1.5*IQR))).any(axis=1)]\n",
    "print(avo1_new2.shape)"
   ]
  },
  {
   "cell_type": "code",
   "execution_count": 44,
   "metadata": {},
   "outputs": [
    {
     "data": {
      "text/plain": [
       "41.92485168094924"
      ]
     },
     "execution_count": 44,
     "metadata": {},
     "output_type": "execute_result"
    }
   ],
   "source": [
    "x=(881/1517)*100\n",
    "100-x"
   ]
  },
  {
   "cell_type": "markdown",
   "metadata": {},
   "source": [
    "# Conclusion"
   ]
  },
  {
   "cell_type": "markdown",
   "metadata": {},
   "source": [
    "soo, in **Zscore** method i am losing only 5% of the data but where as in **IQR** method am losing huge amount of valueble data which is 41% which is not normal, so i am going to stick with zscore method in this particular problem"
   ]
  },
  {
   "cell_type": "code",
   "execution_count": 45,
   "metadata": {},
   "outputs": [
    {
     "data": {
      "text/plain": [
       "AveragePrice   -0.184770\n",
       "Total Volume    2.704085\n",
       "4046            3.120756\n",
       "4225            2.367429\n",
       "4770            3.331191\n",
       "Total Bags      4.165747\n",
       "Small Bags      4.410267\n",
       "Large Bags      3.518056\n",
       "XLarge Bags     5.118965\n",
       "year            2.004439\n",
       "dtype: float64"
      ]
     },
     "execution_count": 45,
     "metadata": {},
     "output_type": "execute_result"
    }
   ],
   "source": [
    "avo1_new.skew()"
   ]
  },
  {
   "cell_type": "markdown",
   "metadata": {},
   "source": [
    "so, in here except 'AveragePrice', over 4.4 amount of skeness exist, i'll be using sqrt and log transformation to deal with the skewness"
   ]
  },
  {
   "cell_type": "code",
   "execution_count": 46,
   "metadata": {},
   "outputs": [],
   "source": [
    "avo1_new['Total Volume']=log(avo1_new['Total Volume'])\n",
    "avo1_new['4046']=sqrt(avo1_new['4046'])\n",
    "avo1_new['4225']=sqrt(avo1_new['4225'])\n",
    "avo1_new['4770']=sqrt(avo1_new['4770'])\n",
    "avo1_new['Total Bags']=log(avo1_new['Total Bags'])\n",
    "avo1_new['Small Bags']=log(avo1_new['Small Bags'])\n",
    "avo1_new['Large Bags']=sqrt(avo1_new['Large Bags'])\n",
    "avo1_new['XLarge Bags']=sqrt(avo1_new['XLarge Bags'])"
   ]
  },
  {
   "cell_type": "markdown",
   "metadata": {},
   "source": [
    "we know that log is a more powerful transformation than sqrt and where the data is imbalanced and where are not speared well chances that i'll end up having NaN values and nagetive data"
   ]
  },
  {
   "cell_type": "code",
   "execution_count": 47,
   "metadata": {},
   "outputs": [
    {
     "data": {
      "text/plain": [
       "AveragePrice   -0.184770\n",
       "Total Volume    0.462892\n",
       "4046            1.882842\n",
       "4225            1.380059\n",
       "4770            1.773953\n",
       "Total Bags      0.378608\n",
       "Small Bags      0.420794\n",
       "Large Bags      1.696494\n",
       "XLarge Bags     2.826879\n",
       "year            2.004439\n",
       "dtype: float64"
      ]
     },
     "execution_count": 47,
     "metadata": {},
     "output_type": "execute_result"
    }
   ],
   "source": [
    "avo1_new.skew()"
   ]
  },
  {
   "cell_type": "markdown",
   "metadata": {},
   "source": [
    "Now i'll be using sqrt to deal with the rest of the skewness which is stll present\n",
    "\n",
    "those are\n",
    "\n",
    "column - **4046**\n",
    "\n",
    "column - **4225**\n",
    "\n",
    "column - **4770**\n",
    "\n",
    "column - **Large Bags**\n",
    "\n",
    "column - **XLarge Bags**"
   ]
  },
  {
   "cell_type": "code",
   "execution_count": 48,
   "metadata": {},
   "outputs": [],
   "source": [
    "avo1_new['4046']=sqrt(avo1_new['4046'])\n",
    "avo1_new['4225']=sqrt(avo1_new['4225'])\n",
    "avo1_new['4770']=sqrt(avo1_new['4770'])\n",
    "avo1_new['Large Bags']=sqrt(avo1_new['Large Bags'])\n",
    "avo1_new['XLarge Bags']=sqrt(avo1_new['XLarge Bags'])"
   ]
  },
  {
   "cell_type": "code",
   "execution_count": 49,
   "metadata": {},
   "outputs": [
    {
     "data": {
      "text/plain": [
       "AveragePrice   -0.184770\n",
       "Total Volume    0.462892\n",
       "4046            0.875523\n",
       "4225            0.763938\n",
       "4770            0.696428\n",
       "Total Bags      0.378608\n",
       "Small Bags      0.420794\n",
       "Large Bags      0.442490\n",
       "XLarge Bags     1.369467\n",
       "year            2.004439\n",
       "dtype: float64"
      ]
     },
     "execution_count": 49,
     "metadata": {},
     "output_type": "execute_result"
    }
   ],
   "source": [
    "avo1_new.skew()"
   ]
  },
  {
   "cell_type": "markdown",
   "metadata": {},
   "source": [
    "i'll repeat the same prossess until it gets close to 0.5 or lesser than 0.5\n",
    "\n",
    "The columns are\n",
    "\n",
    "column - **4046**\n",
    "\n",
    "column - **4225**\n",
    "\n",
    "column - **4770**\n",
    "\n",
    "column - **XLarge Bags**"
   ]
  },
  {
   "cell_type": "code",
   "execution_count": 50,
   "metadata": {},
   "outputs": [],
   "source": [
    "avo1_new['4046']=sqrt(avo1_new['4046'])\n",
    "avo1_new['4225']=sqrt(avo1_new['4225'])\n",
    "avo1_new['4770']=sqrt(avo1_new['4770'])\n",
    "avo1_new['XLarge Bags']=sqrt(avo1_new['XLarge Bags'])"
   ]
  },
  {
   "cell_type": "code",
   "execution_count": 51,
   "metadata": {},
   "outputs": [
    {
     "data": {
      "text/plain": [
       "AveragePrice   -0.184770\n",
       "Total Volume    0.462892\n",
       "4046            0.295764\n",
       "4225            0.411364\n",
       "4770            0.095129\n",
       "Total Bags      0.378608\n",
       "Small Bags      0.420794\n",
       "Large Bags      0.442490\n",
       "XLarge Bags     0.626751\n",
       "year            2.004439\n",
       "dtype: float64"
      ]
     },
     "execution_count": 51,
     "metadata": {},
     "output_type": "execute_result"
    }
   ],
   "source": [
    "avo1_new.skew()"
   ]
  },
  {
   "cell_type": "code",
   "execution_count": 52,
   "metadata": {},
   "outputs": [
    {
     "data": {
      "image/png": "[encoded data removed]",
      "text/plain": [
       "<Figure size 1152x864 with 12 Axes>"
      ]
     },
     "metadata": {
      "needs_background": "light"
     },
     "output_type": "display_data"
    }
   ],
   "source": [
    "fig_size=plt.rcParams[\"figure.figsize\"]\n",
    "fig_size[0]=16\n",
    "fig_size[1]=12\n",
    "plt.rcParams[\"figure.figsize\"]=fig_size\n",
    "\n",
    "avo1_new.hist()\n",
    "plt.show()"
   ]
  },
  {
   "cell_type": "markdown",
   "metadata": {},
   "source": [
    "as we can see that there the skewness is normalized and the data is now ready for to train"
   ]
  },
  {
   "cell_type": "markdown",
   "metadata": {},
   "source": [
    "# Checking for if the Data is Normalized or not"
   ]
  },
  {
   "cell_type": "code",
   "execution_count": 53,
   "metadata": {
    "scrolled": false
   },
   "outputs": [
    {
     "ename": "ValueError",
     "evalue": "num must be 1 <= num <= 8, not 9",
     "output_type": "error",
     "traceback": [
      "\u001b[1;31m---------------------------------------------------------------------------\u001b[0m",
      "\u001b[1;31mValueError\u001b[0m                                Traceback (most recent call last)",
      "\u001b[1;32m<ipython-input-53-8c82a61c9340>\u001b[0m in \u001b[0;36m<module>\u001b[1;34m\u001b[0m\n\u001b[0;32m      8\u001b[0m \u001b[1;33m\u001b[0m\u001b[0m\n\u001b[0;32m      9\u001b[0m \u001b[1;32mfor\u001b[0m \u001b[0mi\u001b[0m\u001b[1;33m,\u001b[0m\u001b[0mj\u001b[0m\u001b[1;33m,\u001b[0m\u001b[0mk\u001b[0m \u001b[1;32min\u001b[0m \u001b[0mitertools\u001b[0m\u001b[1;33m.\u001b[0m\u001b[0mzip_longest\u001b[0m\u001b[1;33m(\u001b[0m\u001b[0mcolls\u001b[0m\u001b[1;33m,\u001b[0m\u001b[0mrange\u001b[0m\u001b[1;33m(\u001b[0m\u001b[0mLen\u001b[0m\u001b[1;33m)\u001b[0m\u001b[1;33m,\u001b[0m\u001b[0mcs\u001b[0m\u001b[1;33m)\u001b[0m\u001b[1;33m:\u001b[0m\u001b[1;33m\u001b[0m\u001b[1;33m\u001b[0m\u001b[0m\n\u001b[1;32m---> 10\u001b[1;33m     \u001b[0mplt\u001b[0m\u001b[1;33m.\u001b[0m\u001b[0msubplot\u001b[0m\u001b[1;33m(\u001b[0m\u001b[1;36m4\u001b[0m\u001b[1;33m,\u001b[0m\u001b[1;36m2\u001b[0m\u001b[1;33m,\u001b[0m\u001b[0mj\u001b[0m\u001b[1;33m+\u001b[0m\u001b[1;36m1\u001b[0m\u001b[1;33m)\u001b[0m\u001b[1;33m\u001b[0m\u001b[1;33m\u001b[0m\u001b[0m\n\u001b[0m\u001b[0;32m     11\u001b[0m     \u001b[0max\u001b[0m\u001b[1;33m=\u001b[0m \u001b[0msns\u001b[0m\u001b[1;33m.\u001b[0m\u001b[0mdistplot\u001b[0m\u001b[1;33m(\u001b[0m\u001b[0mavo1_new\u001b[0m\u001b[1;33m[\u001b[0m\u001b[0mi\u001b[0m\u001b[1;33m]\u001b[0m\u001b[1;33m,\u001b[0m\u001b[0mcolor\u001b[0m\u001b[1;33m=\u001b[0m\u001b[0mk\u001b[0m\u001b[1;33m,\u001b[0m\u001b[0mrug\u001b[0m\u001b[1;33m=\u001b[0m\u001b[1;32mTrue\u001b[0m\u001b[1;33m)\u001b[0m\u001b[1;33m\u001b[0m\u001b[1;33m\u001b[0m\u001b[0m\n\u001b[0;32m     12\u001b[0m     \u001b[0max\u001b[0m\u001b[1;33m.\u001b[0m\u001b[0mset_facecolor\u001b[0m\u001b[1;33m(\u001b[0m\u001b[1;34m\"w\"\u001b[0m\u001b[1;33m)\u001b[0m\u001b[1;33m\u001b[0m\u001b[1;33m\u001b[0m\u001b[0m\n",
      "\u001b[1;32m~\\anaconda3\\lib\\site-packages\\matplotlib\\pyplot.py\u001b[0m in \u001b[0;36msubplot\u001b[1;34m(*args, **kwargs)\u001b[0m\n\u001b[0;32m   1140\u001b[0m \u001b[1;33m\u001b[0m\u001b[0m\n\u001b[0;32m   1141\u001b[0m     \u001b[0mfig\u001b[0m \u001b[1;33m=\u001b[0m \u001b[0mgcf\u001b[0m\u001b[1;33m(\u001b[0m\u001b[1;33m)\u001b[0m\u001b[1;33m\u001b[0m\u001b[1;33m\u001b[0m\u001b[0m\n\u001b[1;32m-> 1142\u001b[1;33m     \u001b[0max\u001b[0m \u001b[1;33m=\u001b[0m \u001b[0mfig\u001b[0m\u001b[1;33m.\u001b[0m\u001b[0madd_subplot\u001b[0m\u001b[1;33m(\u001b[0m\u001b[1;33m*\u001b[0m\u001b[0margs\u001b[0m\u001b[1;33m,\u001b[0m \u001b[1;33m**\u001b[0m\u001b[0mkwargs\u001b[0m\u001b[1;33m)\u001b[0m\u001b[1;33m\u001b[0m\u001b[1;33m\u001b[0m\u001b[0m\n\u001b[0m\u001b[0;32m   1143\u001b[0m     \u001b[0mbbox\u001b[0m \u001b[1;33m=\u001b[0m \u001b[0max\u001b[0m\u001b[1;33m.\u001b[0m\u001b[0mbbox\u001b[0m\u001b[1;33m\u001b[0m\u001b[1;33m\u001b[0m\u001b[0m\n\u001b[0;32m   1144\u001b[0m     \u001b[0maxes_to_delete\u001b[0m \u001b[1;33m=\u001b[0m \u001b[1;33m[\u001b[0m\u001b[1;33m]\u001b[0m\u001b[1;33m\u001b[0m\u001b[1;33m\u001b[0m\u001b[0m\n",
      "\u001b[1;32m~\\anaconda3\\lib\\site-packages\\matplotlib\\figure.py\u001b[0m in \u001b[0;36madd_subplot\u001b[1;34m(self, *args, **kwargs)\u001b[0m\n\u001b[0;32m   1400\u001b[0m                     \u001b[1;31m# more similar to add_axes.\u001b[0m\u001b[1;33m\u001b[0m\u001b[1;33m\u001b[0m\u001b[1;33m\u001b[0m\u001b[0m\n\u001b[0;32m   1401\u001b[0m                     \u001b[0mself\u001b[0m\u001b[1;33m.\u001b[0m\u001b[0m_axstack\u001b[0m\u001b[1;33m.\u001b[0m\u001b[0mremove\u001b[0m\u001b[1;33m(\u001b[0m\u001b[0max\u001b[0m\u001b[1;33m)\u001b[0m\u001b[1;33m\u001b[0m\u001b[1;33m\u001b[0m\u001b[0m\n\u001b[1;32m-> 1402\u001b[1;33m             \u001b[0max\u001b[0m \u001b[1;33m=\u001b[0m \u001b[0msubplot_class_factory\u001b[0m\u001b[1;33m(\u001b[0m\u001b[0mprojection_class\u001b[0m\u001b[1;33m)\u001b[0m\u001b[1;33m(\u001b[0m\u001b[0mself\u001b[0m\u001b[1;33m,\u001b[0m \u001b[1;33m*\u001b[0m\u001b[0margs\u001b[0m\u001b[1;33m,\u001b[0m \u001b[1;33m**\u001b[0m\u001b[0mkwargs\u001b[0m\u001b[1;33m)\u001b[0m\u001b[1;33m\u001b[0m\u001b[1;33m\u001b[0m\u001b[0m\n\u001b[0m\u001b[0;32m   1403\u001b[0m \u001b[1;33m\u001b[0m\u001b[0m\n\u001b[0;32m   1404\u001b[0m         \u001b[1;32mreturn\u001b[0m \u001b[0mself\u001b[0m\u001b[1;33m.\u001b[0m\u001b[0m_add_axes_internal\u001b[0m\u001b[1;33m(\u001b[0m\u001b[0mkey\u001b[0m\u001b[1;33m,\u001b[0m \u001b[0max\u001b[0m\u001b[1;33m)\u001b[0m\u001b[1;33m\u001b[0m\u001b[1;33m\u001b[0m\u001b[0m\n",
      "\u001b[1;32m~\\anaconda3\\lib\\site-packages\\matplotlib\\axes\\_subplots.py\u001b[0m in \u001b[0;36m__init__\u001b[1;34m(self, fig, *args, **kwargs)\u001b[0m\n\u001b[0;32m     37\u001b[0m \u001b[1;33m\u001b[0m\u001b[0m\n\u001b[0;32m     38\u001b[0m         \u001b[0mself\u001b[0m\u001b[1;33m.\u001b[0m\u001b[0mfigure\u001b[0m \u001b[1;33m=\u001b[0m \u001b[0mfig\u001b[0m\u001b[1;33m\u001b[0m\u001b[1;33m\u001b[0m\u001b[0m\n\u001b[1;32m---> 39\u001b[1;33m         \u001b[0mself\u001b[0m\u001b[1;33m.\u001b[0m\u001b[0m_subplotspec\u001b[0m \u001b[1;33m=\u001b[0m \u001b[0mSubplotSpec\u001b[0m\u001b[1;33m.\u001b[0m\u001b[0m_from_subplot_args\u001b[0m\u001b[1;33m(\u001b[0m\u001b[0mfig\u001b[0m\u001b[1;33m,\u001b[0m \u001b[0margs\u001b[0m\u001b[1;33m)\u001b[0m\u001b[1;33m\u001b[0m\u001b[1;33m\u001b[0m\u001b[0m\n\u001b[0m\u001b[0;32m     40\u001b[0m         \u001b[0mself\u001b[0m\u001b[1;33m.\u001b[0m\u001b[0mupdate_params\u001b[0m\u001b[1;33m(\u001b[0m\u001b[1;33m)\u001b[0m\u001b[1;33m\u001b[0m\u001b[1;33m\u001b[0m\u001b[0m\n\u001b[0;32m     41\u001b[0m         \u001b[1;31m# _axes_class is set in the subplot_class_factory\u001b[0m\u001b[1;33m\u001b[0m\u001b[1;33m\u001b[0m\u001b[1;33m\u001b[0m\u001b[0m\n",
      "\u001b[1;32m~\\anaconda3\\lib\\site-packages\\matplotlib\\gridspec.py\u001b[0m in \u001b[0;36m_from_subplot_args\u001b[1;34m(figure, args)\u001b[0m\n\u001b[0;32m    687\u001b[0m                     \u001b[0mnum\u001b[0m \u001b[1;33m=\u001b[0m \u001b[0mint\u001b[0m\u001b[1;33m(\u001b[0m\u001b[0mnum\u001b[0m\u001b[1;33m)\u001b[0m\u001b[1;33m\u001b[0m\u001b[1;33m\u001b[0m\u001b[0m\n\u001b[0;32m    688\u001b[0m                 \u001b[1;32mif\u001b[0m \u001b[0mnum\u001b[0m \u001b[1;33m<\u001b[0m \u001b[1;36m1\u001b[0m \u001b[1;32mor\u001b[0m \u001b[0mnum\u001b[0m \u001b[1;33m>\u001b[0m \u001b[0mrows\u001b[0m\u001b[1;33m*\u001b[0m\u001b[0mcols\u001b[0m\u001b[1;33m:\u001b[0m\u001b[1;33m\u001b[0m\u001b[1;33m\u001b[0m\u001b[0m\n\u001b[1;32m--> 689\u001b[1;33m                     raise ValueError(\n\u001b[0m\u001b[0;32m    690\u001b[0m                         f\"num must be 1 <= num <= {rows*cols}, not {num}\")\n\u001b[0;32m    691\u001b[0m                 \u001b[1;32mreturn\u001b[0m \u001b[0mgs\u001b[0m\u001b[1;33m[\u001b[0m\u001b[0mnum\u001b[0m \u001b[1;33m-\u001b[0m \u001b[1;36m1\u001b[0m\u001b[1;33m]\u001b[0m   \u001b[1;31m# -1 due to MATLAB indexing.\u001b[0m\u001b[1;33m\u001b[0m\u001b[1;33m\u001b[0m\u001b[0m\n",
      "\u001b[1;31mValueError\u001b[0m: num must be 1 <= num <= 8, not 9"
     ]
    },
    {
     "data": {
      "image/png": "[encoded data removed]",
      "text/plain": [
       "<Figure size 864x1224 with 8 Axes>"
      ]
     },
     "metadata": {
      "needs_background": "light"
     },
     "output_type": "display_data"
    }
   ],
   "source": [
    "import itertools\n",
    "\n",
    "colls=['AveragePrice', 'Total Volume', '4046', '4225', '4770', 'Total Bags',\n",
    "       'Small Bags', 'Large Bags', 'XLarge Bags']\n",
    "Len=len(colls)\n",
    "cs=['b','r','g','c','m','k','lime']\n",
    "fig=plt.figure(figsize=(12,17))\n",
    "\n",
    "for i,j,k in itertools.zip_longest(colls,range(Len),cs):\n",
    "    plt.subplot(4,2,j+1)\n",
    "    ax= sns.distplot(avo1_new[i],color=k,rug=True)\n",
    "    ax.set_facecolor(\"w\")\n",
    "    plt.axvline(avo1_new[i].mean(),linestyle='dashed',label='mean',color='k')\n",
    "    plt.legend(loc='best')\n",
    "    plt.title(i,color='navy')\n",
    "    plt.xlabel('')"
   ]
  },
  {
   "cell_type": "code",
   "execution_count": null,
   "metadata": {},
   "outputs": [],
   "source": []
  },
  {
   "cell_type": "markdown",
   "metadata": {},
   "source": [
    "# Model Traning "
   ]
  },
  {
   "cell_type": "markdown",
   "metadata": {},
   "source": [
    "Before traing and spliting the modle i'll be first checking the colums and its unique type to see diffrence and other uniqueness is present"
   ]
  },
  {
   "cell_type": "code",
   "execution_count": 54,
   "metadata": {},
   "outputs": [
    {
     "data": {
      "text/html": [
       "<div>\n",
       "<style scoped>\n",
       "    .dataframe tbody tr th:only-of-type {\n",
       "        vertical-align: middle;\n",
       "    }\n",
       "\n",
       "    .dataframe tbody tr th {\n",
       "        vertical-align: top;\n",
       "    }\n",
       "\n",
       "    .dataframe thead th {\n",
       "        text-align: right;\n",
       "    }\n",
       "</style>\n",
       "<table border=\"1\" class=\"dataframe\">\n",
       "  <thead>\n",
       "    <tr style=\"text-align: right;\">\n",
       "      <th></th>\n",
       "      <th>AveragePrice</th>\n",
       "      <th>Total Volume</th>\n",
       "      <th>4046</th>\n",
       "      <th>4225</th>\n",
       "      <th>4770</th>\n",
       "      <th>Total Bags</th>\n",
       "      <th>Small Bags</th>\n",
       "      <th>Large Bags</th>\n",
       "      <th>XLarge Bags</th>\n",
       "      <th>type</th>\n",
       "      <th>year</th>\n",
       "      <th>region</th>\n",
       "    </tr>\n",
       "  </thead>\n",
       "  <tbody>\n",
       "    <tr>\n",
       "      <th>0</th>\n",
       "      <td>1.33</td>\n",
       "      <td>11.070329</td>\n",
       "      <td>2.382093</td>\n",
       "      <td>3.908450</td>\n",
       "      <td>1.623065</td>\n",
       "      <td>9.070718</td>\n",
       "      <td>9.059938</td>\n",
       "      <td>3.107508</td>\n",
       "      <td>0.000000</td>\n",
       "      <td>conventional</td>\n",
       "      <td>2015</td>\n",
       "      <td>Albany</td>\n",
       "    </tr>\n",
       "    <tr>\n",
       "      <th>1</th>\n",
       "      <td>1.35</td>\n",
       "      <td>10.912849</td>\n",
       "      <td>2.257382</td>\n",
       "      <td>3.812537</td>\n",
       "      <td>1.662404</td>\n",
       "      <td>9.159632</td>\n",
       "      <td>9.149323</td>\n",
       "      <td>3.142245</td>\n",
       "      <td>0.000000</td>\n",
       "      <td>conventional</td>\n",
       "      <td>2015</td>\n",
       "      <td>Albany</td>\n",
       "    </tr>\n",
       "    <tr>\n",
       "      <th>2</th>\n",
       "      <td>0.93</td>\n",
       "      <td>11.680304</td>\n",
       "      <td>2.304228</td>\n",
       "      <td>4.263368</td>\n",
       "      <td>1.838448</td>\n",
       "      <td>9.005202</td>\n",
       "      <td>8.992459</td>\n",
       "      <td>3.186814</td>\n",
       "      <td>0.000000</td>\n",
       "      <td>conventional</td>\n",
       "      <td>2015</td>\n",
       "      <td>Albany</td>\n",
       "    </tr>\n",
       "    <tr>\n",
       "      <th>3</th>\n",
       "      <td>1.08</td>\n",
       "      <td>11.277104</td>\n",
       "      <td>2.408412</td>\n",
       "      <td>4.047145</td>\n",
       "      <td>1.708449</td>\n",
       "      <td>8.667535</td>\n",
       "      <td>8.644249</td>\n",
       "      <td>3.400804</td>\n",
       "      <td>0.000000</td>\n",
       "      <td>conventional</td>\n",
       "      <td>2015</td>\n",
       "      <td>Albany</td>\n",
       "    </tr>\n",
       "    <tr>\n",
       "      <th>4</th>\n",
       "      <td>1.28</td>\n",
       "      <td>10.840357</td>\n",
       "      <td>2.353566</td>\n",
       "      <td>3.803924</td>\n",
       "      <td>1.717688</td>\n",
       "      <td>8.729713</td>\n",
       "      <td>8.697222</td>\n",
       "      <td>3.749697</td>\n",
       "      <td>0.000000</td>\n",
       "      <td>conventional</td>\n",
       "      <td>2015</td>\n",
       "      <td>Albany</td>\n",
       "    </tr>\n",
       "    <tr>\n",
       "      <th>...</th>\n",
       "      <td>...</td>\n",
       "      <td>...</td>\n",
       "      <td>...</td>\n",
       "      <td>...</td>\n",
       "      <td>...</td>\n",
       "      <td>...</td>\n",
       "      <td>...</td>\n",
       "      <td>...</td>\n",
       "      <td>...</td>\n",
       "      <td>...</td>\n",
       "      <td>...</td>\n",
       "      <td>...</td>\n",
       "    </tr>\n",
       "    <tr>\n",
       "      <th>1512</th>\n",
       "      <td>1.39</td>\n",
       "      <td>12.159222</td>\n",
       "      <td>3.935374</td>\n",
       "      <td>3.925345</td>\n",
       "      <td>3.392175</td>\n",
       "      <td>10.992360</td>\n",
       "      <td>10.795968</td>\n",
       "      <td>10.087507</td>\n",
       "      <td>1.984219</td>\n",
       "      <td>conventional</td>\n",
       "      <td>2016</td>\n",
       "      <td>Charlotte</td>\n",
       "    </tr>\n",
       "    <tr>\n",
       "      <th>1513</th>\n",
       "      <td>1.51</td>\n",
       "      <td>12.090862</td>\n",
       "      <td>3.798336</td>\n",
       "      <td>3.887747</td>\n",
       "      <td>3.435816</td>\n",
       "      <td>11.055652</td>\n",
       "      <td>10.909695</td>\n",
       "      <td>9.629000</td>\n",
       "      <td>0.000000</td>\n",
       "      <td>conventional</td>\n",
       "      <td>2016</td>\n",
       "      <td>Charlotte</td>\n",
       "    </tr>\n",
       "    <tr>\n",
       "      <th>1514</th>\n",
       "      <td>1.48</td>\n",
       "      <td>12.091844</td>\n",
       "      <td>3.830659</td>\n",
       "      <td>3.894262</td>\n",
       "      <td>3.372558</td>\n",
       "      <td>11.041573</td>\n",
       "      <td>10.884303</td>\n",
       "      <td>9.532808</td>\n",
       "      <td>2.315031</td>\n",
       "      <td>conventional</td>\n",
       "      <td>2016</td>\n",
       "      <td>Charlotte</td>\n",
       "    </tr>\n",
       "    <tr>\n",
       "      <th>1515</th>\n",
       "      <td>1.47</td>\n",
       "      <td>12.150198</td>\n",
       "      <td>3.905355</td>\n",
       "      <td>3.900669</td>\n",
       "      <td>3.391295</td>\n",
       "      <td>11.065571</td>\n",
       "      <td>10.926900</td>\n",
       "      <td>9.538603</td>\n",
       "      <td>0.000000</td>\n",
       "      <td>conventional</td>\n",
       "      <td>2016</td>\n",
       "      <td>Charlotte</td>\n",
       "    </tr>\n",
       "    <tr>\n",
       "      <th>1516</th>\n",
       "      <td>1.43</td>\n",
       "      <td>12.117123</td>\n",
       "      <td>3.796036</td>\n",
       "      <td>3.906100</td>\n",
       "      <td>3.368181</td>\n",
       "      <td>11.143376</td>\n",
       "      <td>10.958778</td>\n",
       "      <td>10.388817</td>\n",
       "      <td>0.000000</td>\n",
       "      <td>conventional</td>\n",
       "      <td>2016</td>\n",
       "      <td>Charlotte</td>\n",
       "    </tr>\n",
       "  </tbody>\n",
       "</table>\n",
       "<p>1436 rows × 12 columns</p>\n",
       "</div>"
      ],
      "text/plain": [
       "      AveragePrice  Total Volume      4046      4225      4770  Total Bags  \\\n",
       "0             1.33     11.070329  2.382093  3.908450  1.623065    9.070718   \n",
       "1             1.35     10.912849  2.257382  3.812537  1.662404    9.159632   \n",
       "2             0.93     11.680304  2.304228  4.263368  1.838448    9.005202   \n",
       "3             1.08     11.277104  2.408412  4.047145  1.708449    8.667535   \n",
       "4             1.28     10.840357  2.353566  3.803924  1.717688    8.729713   \n",
       "...            ...           ...       ...       ...       ...         ...   \n",
       "1512          1.39     12.159222  3.935374  3.925345  3.392175   10.992360   \n",
       "1513          1.51     12.090862  3.798336  3.887747  3.435816   11.055652   \n",
       "1514          1.48     12.091844  3.830659  3.894262  3.372558   11.041573   \n",
       "1515          1.47     12.150198  3.905355  3.900669  3.391295   11.065571   \n",
       "1516          1.43     12.117123  3.796036  3.906100  3.368181   11.143376   \n",
       "\n",
       "      Small Bags  Large Bags  XLarge Bags          type  year     region  \n",
       "0       9.059938    3.107508     0.000000  conventional  2015     Albany  \n",
       "1       9.149323    3.142245     0.000000  conventional  2015     Albany  \n",
       "2       8.992459    3.186814     0.000000  conventional  2015     Albany  \n",
       "3       8.644249    3.400804     0.000000  conventional  2015     Albany  \n",
       "4       8.697222    3.749697     0.000000  conventional  2015     Albany  \n",
       "...          ...         ...          ...           ...   ...        ...  \n",
       "1512   10.795968   10.087507     1.984219  conventional  2016  Charlotte  \n",
       "1513   10.909695    9.629000     0.000000  conventional  2016  Charlotte  \n",
       "1514   10.884303    9.532808     2.315031  conventional  2016  Charlotte  \n",
       "1515   10.926900    9.538603     0.000000  conventional  2016  Charlotte  \n",
       "1516   10.958778   10.388817     0.000000  conventional  2016  Charlotte  \n",
       "\n",
       "[1436 rows x 12 columns]"
      ]
     },
     "execution_count": 54,
     "metadata": {},
     "output_type": "execute_result"
    }
   ],
   "source": [
    "avo1_new"
   ]
  },
  {
   "cell_type": "code",
   "execution_count": 55,
   "metadata": {},
   "outputs": [
    {
     "data": {
      "text/plain": [
       "array(['conventional'], dtype=object)"
      ]
     },
     "execution_count": 55,
     "metadata": {},
     "output_type": "execute_result"
    }
   ],
   "source": [
    "avo1_new['type'].unique()"
   ]
  },
  {
   "cell_type": "markdown",
   "metadata": {},
   "source": [
    "since theres only one type value is present in column so i'll be dropping that column, since is not gonna useful for the models to predict well"
   ]
  },
  {
   "cell_type": "code",
   "execution_count": 56,
   "metadata": {},
   "outputs": [],
   "source": [
    "avo1_new.drop('type',axis=1,inplace=True)"
   ]
  },
  {
   "cell_type": "code",
   "execution_count": 57,
   "metadata": {},
   "outputs": [
    {
     "data": {
      "text/html": [
       "<div>\n",
       "<style scoped>\n",
       "    .dataframe tbody tr th:only-of-type {\n",
       "        vertical-align: middle;\n",
       "    }\n",
       "\n",
       "    .dataframe tbody tr th {\n",
       "        vertical-align: top;\n",
       "    }\n",
       "\n",
       "    .dataframe thead th {\n",
       "        text-align: right;\n",
       "    }\n",
       "</style>\n",
       "<table border=\"1\" class=\"dataframe\">\n",
       "  <thead>\n",
       "    <tr style=\"text-align: right;\">\n",
       "      <th></th>\n",
       "      <th>AveragePrice</th>\n",
       "      <th>Total Volume</th>\n",
       "      <th>4046</th>\n",
       "      <th>4225</th>\n",
       "      <th>4770</th>\n",
       "      <th>Total Bags</th>\n",
       "      <th>Small Bags</th>\n",
       "      <th>Large Bags</th>\n",
       "      <th>XLarge Bags</th>\n",
       "      <th>year</th>\n",
       "      <th>region</th>\n",
       "    </tr>\n",
       "  </thead>\n",
       "  <tbody>\n",
       "    <tr>\n",
       "      <th>0</th>\n",
       "      <td>1.33</td>\n",
       "      <td>11.070329</td>\n",
       "      <td>2.382093</td>\n",
       "      <td>3.908450</td>\n",
       "      <td>1.623065</td>\n",
       "      <td>9.070718</td>\n",
       "      <td>9.059938</td>\n",
       "      <td>3.107508</td>\n",
       "      <td>0.000000</td>\n",
       "      <td>2015</td>\n",
       "      <td>Albany</td>\n",
       "    </tr>\n",
       "    <tr>\n",
       "      <th>1</th>\n",
       "      <td>1.35</td>\n",
       "      <td>10.912849</td>\n",
       "      <td>2.257382</td>\n",
       "      <td>3.812537</td>\n",
       "      <td>1.662404</td>\n",
       "      <td>9.159632</td>\n",
       "      <td>9.149323</td>\n",
       "      <td>3.142245</td>\n",
       "      <td>0.000000</td>\n",
       "      <td>2015</td>\n",
       "      <td>Albany</td>\n",
       "    </tr>\n",
       "    <tr>\n",
       "      <th>2</th>\n",
       "      <td>0.93</td>\n",
       "      <td>11.680304</td>\n",
       "      <td>2.304228</td>\n",
       "      <td>4.263368</td>\n",
       "      <td>1.838448</td>\n",
       "      <td>9.005202</td>\n",
       "      <td>8.992459</td>\n",
       "      <td>3.186814</td>\n",
       "      <td>0.000000</td>\n",
       "      <td>2015</td>\n",
       "      <td>Albany</td>\n",
       "    </tr>\n",
       "    <tr>\n",
       "      <th>3</th>\n",
       "      <td>1.08</td>\n",
       "      <td>11.277104</td>\n",
       "      <td>2.408412</td>\n",
       "      <td>4.047145</td>\n",
       "      <td>1.708449</td>\n",
       "      <td>8.667535</td>\n",
       "      <td>8.644249</td>\n",
       "      <td>3.400804</td>\n",
       "      <td>0.000000</td>\n",
       "      <td>2015</td>\n",
       "      <td>Albany</td>\n",
       "    </tr>\n",
       "    <tr>\n",
       "      <th>4</th>\n",
       "      <td>1.28</td>\n",
       "      <td>10.840357</td>\n",
       "      <td>2.353566</td>\n",
       "      <td>3.803924</td>\n",
       "      <td>1.717688</td>\n",
       "      <td>8.729713</td>\n",
       "      <td>8.697222</td>\n",
       "      <td>3.749697</td>\n",
       "      <td>0.000000</td>\n",
       "      <td>2015</td>\n",
       "      <td>Albany</td>\n",
       "    </tr>\n",
       "    <tr>\n",
       "      <th>...</th>\n",
       "      <td>...</td>\n",
       "      <td>...</td>\n",
       "      <td>...</td>\n",
       "      <td>...</td>\n",
       "      <td>...</td>\n",
       "      <td>...</td>\n",
       "      <td>...</td>\n",
       "      <td>...</td>\n",
       "      <td>...</td>\n",
       "      <td>...</td>\n",
       "      <td>...</td>\n",
       "    </tr>\n",
       "    <tr>\n",
       "      <th>1512</th>\n",
       "      <td>1.39</td>\n",
       "      <td>12.159222</td>\n",
       "      <td>3.935374</td>\n",
       "      <td>3.925345</td>\n",
       "      <td>3.392175</td>\n",
       "      <td>10.992360</td>\n",
       "      <td>10.795968</td>\n",
       "      <td>10.087507</td>\n",
       "      <td>1.984219</td>\n",
       "      <td>2016</td>\n",
       "      <td>Charlotte</td>\n",
       "    </tr>\n",
       "    <tr>\n",
       "      <th>1513</th>\n",
       "      <td>1.51</td>\n",
       "      <td>12.090862</td>\n",
       "      <td>3.798336</td>\n",
       "      <td>3.887747</td>\n",
       "      <td>3.435816</td>\n",
       "      <td>11.055652</td>\n",
       "      <td>10.909695</td>\n",
       "      <td>9.629000</td>\n",
       "      <td>0.000000</td>\n",
       "      <td>2016</td>\n",
       "      <td>Charlotte</td>\n",
       "    </tr>\n",
       "    <tr>\n",
       "      <th>1514</th>\n",
       "      <td>1.48</td>\n",
       "      <td>12.091844</td>\n",
       "      <td>3.830659</td>\n",
       "      <td>3.894262</td>\n",
       "      <td>3.372558</td>\n",
       "      <td>11.041573</td>\n",
       "      <td>10.884303</td>\n",
       "      <td>9.532808</td>\n",
       "      <td>2.315031</td>\n",
       "      <td>2016</td>\n",
       "      <td>Charlotte</td>\n",
       "    </tr>\n",
       "    <tr>\n",
       "      <th>1515</th>\n",
       "      <td>1.47</td>\n",
       "      <td>12.150198</td>\n",
       "      <td>3.905355</td>\n",
       "      <td>3.900669</td>\n",
       "      <td>3.391295</td>\n",
       "      <td>11.065571</td>\n",
       "      <td>10.926900</td>\n",
       "      <td>9.538603</td>\n",
       "      <td>0.000000</td>\n",
       "      <td>2016</td>\n",
       "      <td>Charlotte</td>\n",
       "    </tr>\n",
       "    <tr>\n",
       "      <th>1516</th>\n",
       "      <td>1.43</td>\n",
       "      <td>12.117123</td>\n",
       "      <td>3.796036</td>\n",
       "      <td>3.906100</td>\n",
       "      <td>3.368181</td>\n",
       "      <td>11.143376</td>\n",
       "      <td>10.958778</td>\n",
       "      <td>10.388817</td>\n",
       "      <td>0.000000</td>\n",
       "      <td>2016</td>\n",
       "      <td>Charlotte</td>\n",
       "    </tr>\n",
       "  </tbody>\n",
       "</table>\n",
       "<p>1436 rows × 11 columns</p>\n",
       "</div>"
      ],
      "text/plain": [
       "      AveragePrice  Total Volume      4046      4225      4770  Total Bags  \\\n",
       "0             1.33     11.070329  2.382093  3.908450  1.623065    9.070718   \n",
       "1             1.35     10.912849  2.257382  3.812537  1.662404    9.159632   \n",
       "2             0.93     11.680304  2.304228  4.263368  1.838448    9.005202   \n",
       "3             1.08     11.277104  2.408412  4.047145  1.708449    8.667535   \n",
       "4             1.28     10.840357  2.353566  3.803924  1.717688    8.729713   \n",
       "...            ...           ...       ...       ...       ...         ...   \n",
       "1512          1.39     12.159222  3.935374  3.925345  3.392175   10.992360   \n",
       "1513          1.51     12.090862  3.798336  3.887747  3.435816   11.055652   \n",
       "1514          1.48     12.091844  3.830659  3.894262  3.372558   11.041573   \n",
       "1515          1.47     12.150198  3.905355  3.900669  3.391295   11.065571   \n",
       "1516          1.43     12.117123  3.796036  3.906100  3.368181   11.143376   \n",
       "\n",
       "      Small Bags  Large Bags  XLarge Bags  year     region  \n",
       "0       9.059938    3.107508     0.000000  2015     Albany  \n",
       "1       9.149323    3.142245     0.000000  2015     Albany  \n",
       "2       8.992459    3.186814     0.000000  2015     Albany  \n",
       "3       8.644249    3.400804     0.000000  2015     Albany  \n",
       "4       8.697222    3.749697     0.000000  2015     Albany  \n",
       "...          ...         ...          ...   ...        ...  \n",
       "1512   10.795968   10.087507     1.984219  2016  Charlotte  \n",
       "1513   10.909695    9.629000     0.000000  2016  Charlotte  \n",
       "1514   10.884303    9.532808     2.315031  2016  Charlotte  \n",
       "1515   10.926900    9.538603     0.000000  2016  Charlotte  \n",
       "1516   10.958778   10.388817     0.000000  2016  Charlotte  \n",
       "\n",
       "[1436 rows x 11 columns]"
      ]
     },
     "execution_count": 57,
     "metadata": {},
     "output_type": "execute_result"
    }
   ],
   "source": [
    "avo1_new"
   ]
  },
  {
   "cell_type": "markdown",
   "metadata": {},
   "source": [
    "Now, there's year and region column and where the region is my target varible, and it is in **str** so for our models to learn i'll be converting them to int bt using **LabelEncoder**"
   ]
  },
  {
   "cell_type": "code",
   "execution_count": 58,
   "metadata": {},
   "outputs": [],
   "source": [
    "le=LabelEncoder()\n",
    "avo1_new['region']=le.fit_transform(avo1_new['region'])\n",
    "avo1_new['year']=le.fit_transform(avo1_new['year'])"
   ]
  },
  {
   "cell_type": "code",
   "execution_count": 59,
   "metadata": {},
   "outputs": [
    {
     "data": {
      "text/html": [
       "<div>\n",
       "<style scoped>\n",
       "    .dataframe tbody tr th:only-of-type {\n",
       "        vertical-align: middle;\n",
       "    }\n",
       "\n",
       "    .dataframe tbody tr th {\n",
       "        vertical-align: top;\n",
       "    }\n",
       "\n",
       "    .dataframe thead th {\n",
       "        text-align: right;\n",
       "    }\n",
       "</style>\n",
       "<table border=\"1\" class=\"dataframe\">\n",
       "  <thead>\n",
       "    <tr style=\"text-align: right;\">\n",
       "      <th></th>\n",
       "      <th>AveragePrice</th>\n",
       "      <th>Total Volume</th>\n",
       "      <th>4046</th>\n",
       "      <th>4225</th>\n",
       "      <th>4770</th>\n",
       "      <th>Total Bags</th>\n",
       "      <th>Small Bags</th>\n",
       "      <th>Large Bags</th>\n",
       "      <th>XLarge Bags</th>\n",
       "      <th>year</th>\n",
       "      <th>region</th>\n",
       "    </tr>\n",
       "  </thead>\n",
       "  <tbody>\n",
       "    <tr>\n",
       "      <th>0</th>\n",
       "      <td>1.33</td>\n",
       "      <td>11.070329</td>\n",
       "      <td>2.382093</td>\n",
       "      <td>3.908450</td>\n",
       "      <td>1.623065</td>\n",
       "      <td>9.070718</td>\n",
       "      <td>9.059938</td>\n",
       "      <td>3.107508</td>\n",
       "      <td>0.000000</td>\n",
       "      <td>0</td>\n",
       "      <td>0</td>\n",
       "    </tr>\n",
       "    <tr>\n",
       "      <th>1</th>\n",
       "      <td>1.35</td>\n",
       "      <td>10.912849</td>\n",
       "      <td>2.257382</td>\n",
       "      <td>3.812537</td>\n",
       "      <td>1.662404</td>\n",
       "      <td>9.159632</td>\n",
       "      <td>9.149323</td>\n",
       "      <td>3.142245</td>\n",
       "      <td>0.000000</td>\n",
       "      <td>0</td>\n",
       "      <td>0</td>\n",
       "    </tr>\n",
       "    <tr>\n",
       "      <th>2</th>\n",
       "      <td>0.93</td>\n",
       "      <td>11.680304</td>\n",
       "      <td>2.304228</td>\n",
       "      <td>4.263368</td>\n",
       "      <td>1.838448</td>\n",
       "      <td>9.005202</td>\n",
       "      <td>8.992459</td>\n",
       "      <td>3.186814</td>\n",
       "      <td>0.000000</td>\n",
       "      <td>0</td>\n",
       "      <td>0</td>\n",
       "    </tr>\n",
       "    <tr>\n",
       "      <th>3</th>\n",
       "      <td>1.08</td>\n",
       "      <td>11.277104</td>\n",
       "      <td>2.408412</td>\n",
       "      <td>4.047145</td>\n",
       "      <td>1.708449</td>\n",
       "      <td>8.667535</td>\n",
       "      <td>8.644249</td>\n",
       "      <td>3.400804</td>\n",
       "      <td>0.000000</td>\n",
       "      <td>0</td>\n",
       "      <td>0</td>\n",
       "    </tr>\n",
       "    <tr>\n",
       "      <th>4</th>\n",
       "      <td>1.28</td>\n",
       "      <td>10.840357</td>\n",
       "      <td>2.353566</td>\n",
       "      <td>3.803924</td>\n",
       "      <td>1.717688</td>\n",
       "      <td>8.729713</td>\n",
       "      <td>8.697222</td>\n",
       "      <td>3.749697</td>\n",
       "      <td>0.000000</td>\n",
       "      <td>0</td>\n",
       "      <td>0</td>\n",
       "    </tr>\n",
       "    <tr>\n",
       "      <th>...</th>\n",
       "      <td>...</td>\n",
       "      <td>...</td>\n",
       "      <td>...</td>\n",
       "      <td>...</td>\n",
       "      <td>...</td>\n",
       "      <td>...</td>\n",
       "      <td>...</td>\n",
       "      <td>...</td>\n",
       "      <td>...</td>\n",
       "      <td>...</td>\n",
       "      <td>...</td>\n",
       "    </tr>\n",
       "    <tr>\n",
       "      <th>1512</th>\n",
       "      <td>1.39</td>\n",
       "      <td>12.159222</td>\n",
       "      <td>3.935374</td>\n",
       "      <td>3.925345</td>\n",
       "      <td>3.392175</td>\n",
       "      <td>10.992360</td>\n",
       "      <td>10.795968</td>\n",
       "      <td>10.087507</td>\n",
       "      <td>1.984219</td>\n",
       "      <td>1</td>\n",
       "      <td>7</td>\n",
       "    </tr>\n",
       "    <tr>\n",
       "      <th>1513</th>\n",
       "      <td>1.51</td>\n",
       "      <td>12.090862</td>\n",
       "      <td>3.798336</td>\n",
       "      <td>3.887747</td>\n",
       "      <td>3.435816</td>\n",
       "      <td>11.055652</td>\n",
       "      <td>10.909695</td>\n",
       "      <td>9.629000</td>\n",
       "      <td>0.000000</td>\n",
       "      <td>1</td>\n",
       "      <td>7</td>\n",
       "    </tr>\n",
       "    <tr>\n",
       "      <th>1514</th>\n",
       "      <td>1.48</td>\n",
       "      <td>12.091844</td>\n",
       "      <td>3.830659</td>\n",
       "      <td>3.894262</td>\n",
       "      <td>3.372558</td>\n",
       "      <td>11.041573</td>\n",
       "      <td>10.884303</td>\n",
       "      <td>9.532808</td>\n",
       "      <td>2.315031</td>\n",
       "      <td>1</td>\n",
       "      <td>7</td>\n",
       "    </tr>\n",
       "    <tr>\n",
       "      <th>1515</th>\n",
       "      <td>1.47</td>\n",
       "      <td>12.150198</td>\n",
       "      <td>3.905355</td>\n",
       "      <td>3.900669</td>\n",
       "      <td>3.391295</td>\n",
       "      <td>11.065571</td>\n",
       "      <td>10.926900</td>\n",
       "      <td>9.538603</td>\n",
       "      <td>0.000000</td>\n",
       "      <td>1</td>\n",
       "      <td>7</td>\n",
       "    </tr>\n",
       "    <tr>\n",
       "      <th>1516</th>\n",
       "      <td>1.43</td>\n",
       "      <td>12.117123</td>\n",
       "      <td>3.796036</td>\n",
       "      <td>3.906100</td>\n",
       "      <td>3.368181</td>\n",
       "      <td>11.143376</td>\n",
       "      <td>10.958778</td>\n",
       "      <td>10.388817</td>\n",
       "      <td>0.000000</td>\n",
       "      <td>1</td>\n",
       "      <td>7</td>\n",
       "    </tr>\n",
       "  </tbody>\n",
       "</table>\n",
       "<p>1436 rows × 11 columns</p>\n",
       "</div>"
      ],
      "text/plain": [
       "      AveragePrice  Total Volume      4046      4225      4770  Total Bags  \\\n",
       "0             1.33     11.070329  2.382093  3.908450  1.623065    9.070718   \n",
       "1             1.35     10.912849  2.257382  3.812537  1.662404    9.159632   \n",
       "2             0.93     11.680304  2.304228  4.263368  1.838448    9.005202   \n",
       "3             1.08     11.277104  2.408412  4.047145  1.708449    8.667535   \n",
       "4             1.28     10.840357  2.353566  3.803924  1.717688    8.729713   \n",
       "...            ...           ...       ...       ...       ...         ...   \n",
       "1512          1.39     12.159222  3.935374  3.925345  3.392175   10.992360   \n",
       "1513          1.51     12.090862  3.798336  3.887747  3.435816   11.055652   \n",
       "1514          1.48     12.091844  3.830659  3.894262  3.372558   11.041573   \n",
       "1515          1.47     12.150198  3.905355  3.900669  3.391295   11.065571   \n",
       "1516          1.43     12.117123  3.796036  3.906100  3.368181   11.143376   \n",
       "\n",
       "      Small Bags  Large Bags  XLarge Bags  year  region  \n",
       "0       9.059938    3.107508     0.000000     0       0  \n",
       "1       9.149323    3.142245     0.000000     0       0  \n",
       "2       8.992459    3.186814     0.000000     0       0  \n",
       "3       8.644249    3.400804     0.000000     0       0  \n",
       "4       8.697222    3.749697     0.000000     0       0  \n",
       "...          ...         ...          ...   ...     ...  \n",
       "1512   10.795968   10.087507     1.984219     1       7  \n",
       "1513   10.909695    9.629000     0.000000     1       7  \n",
       "1514   10.884303    9.532808     2.315031     1       7  \n",
       "1515   10.926900    9.538603     0.000000     1       7  \n",
       "1516   10.958778   10.388817     0.000000     1       7  \n",
       "\n",
       "[1436 rows x 11 columns]"
      ]
     },
     "execution_count": 59,
     "metadata": {},
     "output_type": "execute_result"
    }
   ],
   "source": [
    "avo1_new"
   ]
  },
  {
   "cell_type": "markdown",
   "metadata": {},
   "source": [
    "Now, this is our final Dataset which is ready for train test split"
   ]
  },
  {
   "cell_type": "markdown",
   "metadata": {},
   "source": [
    "# Train test Split\n",
    "\n"
   ]
  },
  {
   "cell_type": "code",
   "execution_count": 60,
   "metadata": {},
   "outputs": [],
   "source": [
    "# Splitting out the model in two diffent sets one will be captial X and other will be small x so we can identify\n",
    "X=avo1_new.drop('AveragePrice',axis=1)\n",
    "Y=avo1_new['AveragePrice']\n",
    "\n",
    "# Capital X and Y is going to be our reggressor\n",
    "\n",
    "x=avo1_new.drop('region',axis=1)\n",
    "y=avo1_new['region']\n",
    "\n",
    "# Small x and y is going to be our classification"
   ]
  },
  {
   "cell_type": "code",
   "execution_count": 61,
   "metadata": {},
   "outputs": [
    {
     "name": "stdout",
     "output_type": "stream",
     "text": [
      "(1436,) -- (1436, 10)\n",
      "(1436,) -- (1436, 10)\n"
     ]
    }
   ],
   "source": [
    "#checking the shape of each models \n",
    "print(Y.shape,'--',X.shape)\n",
    "print(y.shape,'--',x.shape)"
   ]
  },
  {
   "cell_type": "markdown",
   "metadata": {},
   "source": [
    "Now, i'll be checking the \"Best Randomstate\" for the models in which they'll perform well by using for loop method"
   ]
  },
  {
   "cell_type": "code",
   "execution_count": 62,
   "metadata": {},
   "outputs": [
    {
     "name": "stdout",
     "output_type": "stream",
     "text": [
      "random 800 model performs well\n",
      "the RDS 800\n",
      "train r2score-: 40.37537132744866\n",
      "test r2score-: 40.3768714549901\n"
     ]
    }
   ],
   "source": [
    "sc=StandardScaler()\n",
    "X_t=sc.fit_transform(X)\n",
    "Lr=LinearRegression()\n",
    "\n",
    "max_scr=0\n",
    "for i in range(0,1000):\n",
    "    X_train,X_test,Y_train,Y_test=train_test_split(X_t,Y,test_size=0.25,random_state=i,shuffle=True)\n",
    "    Lr.fit(X_train,Y_train)\n",
    "    pred_X_train=Lr.predict(X_train)\n",
    "    pred_X_test=Lr.predict(X_test)\n",
    "    if round(r2_score(Y_train,pred_X_train)*100,2)==round(r2_score(Y_test,pred_X_test)*100,2):\n",
    "        print('random',i,'model performs well')\n",
    "        print('the RDS',i)\n",
    "        print('train r2score-:',r2_score(Y_train,pred_X_train)*100)\n",
    "        print('test r2score-:',r2_score(Y_test,pred_X_test)*100)"
   ]
  },
  {
   "cell_type": "code",
   "execution_count": 63,
   "metadata": {},
   "outputs": [
    {
     "name": "stdout",
     "output_type": "stream",
     "text": [
      "random 164 model performs well\n",
      "the RDS 164\n",
      "train accuracy score-: 94.42896935933148\n",
      "test accuracy score-: 94.42896935933148\n",
      "random 306 model performs well\n",
      "the RDS 306\n",
      "train accuracy score-: 93.31476323119777\n",
      "test accuracy score-: 93.31476323119777\n"
     ]
    }
   ],
   "source": [
    "sc=StandardScaler()\n",
    "x_t=sc.fit_transform(x)\n",
    "lr=LogisticRegression()\n",
    "\n",
    "for i in range(0,1000):\n",
    "    x_train,x_test,y_train,y_test=train_test_split(x_t,y,test_size=0.25,random_state=i,shuffle=True)\n",
    "    lr.fit(x_train,y_train)\n",
    "    pred_x_train=lr.predict(x_train)\n",
    "    pred_x_test=lr.predict(x_test)\n",
    "    if round(accuracy_score(y_train,pred_x_train)*100,2)==round(accuracy_score(y_test,pred_x_test)*100,2):\n",
    "        print('random',i,'model performs well')\n",
    "        print('the RDS',i)       \n",
    "        print('train accuracy score-:',accuracy_score(y_train,pred_x_train)*100)\n",
    "        print('test accuracy score-:',accuracy_score(y_test,pred_x_test)*100)"
   ]
  },
  {
   "cell_type": "markdown",
   "metadata": {},
   "source": [
    "Conclusion:\n",
    "    \n",
    "        At random state 800 the model is performing well than the rest in Regression \n",
    "        \n",
    "        At random state 164 the model is performing well than the rest in Classification  "
   ]
  },
  {
   "cell_type": "code",
   "execution_count": 64,
   "metadata": {},
   "outputs": [],
   "source": [
    "#The point of using shuffle in train_test_split so the model will have the best alnalysis and it wont overlap on eachother or ge confused over columns\n",
    "testsize = 0.25\n",
    "X_train,X_test,Y_train,Y_test=train_test_split(X,Y,test_size=testsize,random_state=800,shuffle=True)\n",
    "x_train,x_test,y_train,y_test=train_test_split(x,y,test_size=testsize,random_state=164,shuffle=True)"
   ]
  },
  {
   "cell_type": "code",
   "execution_count": 65,
   "metadata": {},
   "outputs": [],
   "source": [
    "#for evaluation matrix\n",
    "num_of_folds = 11\n",
    "seed1 = 42\n",
    "scoring_cf = 'accuracy'\n",
    "scoring_re = 'r2'\n",
    "kfold = KFold(n_splits=num_of_folds, random_state=seed1)# the number of folds will do over the splited data"
   ]
  },
  {
   "cell_type": "code",
   "execution_count": 66,
   "metadata": {},
   "outputs": [],
   "source": [
    "# Spot Check Algorithms\n",
    "Cf_models = []\n",
    "Re_models = []\n",
    "Re_models.append(('Lasso',Lasso()))\n",
    "Cf_models.append(('LogisticRegression', LogisticRegression()))\n",
    "Re_models.append(('LinearRegression', LinearRegression()))\n",
    "Cf_models.append(('KNeighborsClassifier', KNeighborsClassifier()))\n",
    "Re_models.append(('KNeighborsRegressor', KNeighborsRegressor()))\n",
    "Cf_models.append(('DecisionTreeClassifier', DecisionTreeClassifier()))\n",
    "Re_models.append(('DecisionTreeRegressor', DecisionTreeRegressor()))\n",
    "Cf_models.append(('GaussianNB', GaussianNB()))\n",
    "Cf_models.append(('MultinomialNB', MultinomialNB()))\n",
    "Cf_models.append(('SVM', SVC()))\n",
    "Re_models.append(('SVR', SVR()))\n",
    "results_of_Cf_mod = []\n",
    "results_of_Re_mod = []\n",
    "names = []\n",
    "names2 = []"
   ]
  },
  {
   "cell_type": "markdown",
   "metadata": {},
   "source": [
    "In here i have used total 11 model in both Regression and Classification set\n",
    "\n",
    "5 in Regression\n",
    "\n",
    "6 in Classification"
   ]
  },
  {
   "cell_type": "markdown",
   "metadata": {},
   "source": [
    "Now, i'll be checking the models performence in a single loop by using for loop method to generate **Mean**,**Std** and **CrossvalScore**"
   ]
  },
  {
   "cell_type": "code",
   "execution_count": 76,
   "metadata": {},
   "outputs": [
    {
     "name": "stdout",
     "output_type": "stream",
     "text": [
      "\n",
      "\n",
      "Names-: Lasso, The Mean-: -1.0007173571684176,\n",
      "The Std-: 1.8683613879129688,\n",
      " cross_val_score-:[-2.51799537e-01 -3.90243356e-02 -2.16523271e-03 -2.89458194e+00\n",
      " -1.03072456e+00 -5.96218215e-02 -5.70563510e-04 -7.91001074e-03\n",
      " -2.24296109e-02 -6.30465694e+00 -3.94406382e-01]\n",
      "\n",
      "\n",
      "Names-: LinearRegression, The Mean-: 38.017593503721045,\n",
      "The Std-: 9.624860094097293,\n",
      " cross_val_score-:[20.60931078 43.48989449 25.93154573 48.0318747  50.701496   25.70115463\n",
      " 43.06412325 43.81497405 40.75084186 32.54739706 43.55091601]\n",
      "\n",
      "\n",
      "Names-: KNeighborsRegressor, The Mean-: 76.10854483780574,\n",
      "The Std-: 3.5958985281832425,\n",
      " cross_val_score-:[72.55370867 72.99681975 75.83259628 72.29105589 75.24558824 77.10299097\n",
      " 73.03203776 74.4233791  83.89569555 78.99211982 80.82800119]\n",
      "\n",
      "\n",
      "Names-: DecisionTreeRegressor, The Mean-: 65.20218188214105,\n",
      "The Std-: 13.58564545461266,\n",
      " cross_val_score-:[36.15374017 46.68437775 61.80516814 73.69691932 55.43949344 71.77559557\n",
      " 78.5829065  72.32219661 81.28000727 62.96407221 76.51952372]\n",
      "\n",
      "\n",
      "Names-: SVR, The Mean-: 43.59422951367074,\n",
      "The Std-: 6.6102769480727686,\n",
      " cross_val_score-:[35.84479818 49.63499697 35.56395674 53.08603445 51.77697531 34.88313419\n",
      " 45.78412131 49.95175213 39.67613476 38.60974237 44.72487824]\n",
      "\n",
      "\n",
      "------------------------------------------------------------------------------\n",
      "\n",
      "\n",
      "\n",
      "\n",
      "Names-: LogisticRegression, The Mean-: 75.95776829944725,\n",
      "The Std-: 3.9455625226165725,\n",
      " cross_val_score-:[35.84479818 49.63499697 35.56395674 53.08603445 51.77697531 34.88313419\n",
      " 45.78412131 49.95175213 39.67613476 38.60974237 44.72487824]\n",
      "\n",
      "\n",
      "Names-: KNeighborsClassifier, The Mean-: 83.84847847292619,\n",
      "The Std-: 2.7613697528219734,\n",
      " cross_val_score-:[35.84479818 49.63499697 35.56395674 53.08603445 51.77697531 34.88313419\n",
      " 45.78412131 49.95175213 39.67613476 38.60974237 44.72487824]\n",
      "\n",
      "\n",
      "Names-: DecisionTreeClassifier, The Mean-: 87.18895243195686,\n",
      "The Std-: 4.060848038551762,\n",
      " cross_val_score-:[35.84479818 49.63499697 35.56395674 53.08603445 51.77697531 34.88313419\n",
      " 45.78412131 49.95175213 39.67613476 38.60974237 44.72487824]\n",
      "\n",
      "\n",
      "Names-: GaussianNB, The Mean-: 89.04615266912764,\n",
      "The Std-: 2.1698132775370165,\n",
      " cross_val_score-:[35.84479818 49.63499697 35.56395674 53.08603445 51.77697531 34.88313419\n",
      " 45.78412131 49.95175213 39.67613476 38.60974237 44.72487824]\n",
      "\n",
      "\n",
      "Names-: MultinomialNB, The Mean-: 34.913834324732704,\n",
      "The Std-: 4.449038744631357,\n",
      " cross_val_score-:[35.84479818 49.63499697 35.56395674 53.08603445 51.77697531 34.88313419\n",
      " 45.78412131 49.95175213 39.67613476 38.60974237 44.72487824]\n",
      "\n",
      "\n",
      "Names-: SVM, The Mean-: 43.18229634871755,\n",
      "The Std-: 4.364181693681651,\n",
      " cross_val_score-:[35.84479818 49.63499697 35.56395674 53.08603445 51.77697531 34.88313419\n",
      " 45.78412131 49.95175213 39.67613476 38.60974237 44.72487824]\n"
     ]
    }
   ],
   "source": [
    "for name, re_models in Re_models:\n",
    "    cv_results_for_re = cross_val_score(re_models, X_train, Y_train, cv=kfold,scoring=scoring_re)\n",
    "    results_of_Re_mod.append(cv_results_for_re)\n",
    "    names2.append(name)\n",
    "    print(f'\\n\\nNames-: {name}, The Mean-: {cv_results_for_re.mean()*100},\\nThe Std-: {cv_results_for_re.std()*100},\\n cross_val_score-:{cv_results_for_re*100}')\n",
    "\n",
    "print('\\n')\n",
    "print('------------------------------------------------------------------------------')\n",
    "print('\\n')\n",
    "    \n",
    "for name, cf_models in Cf_models:\n",
    "    cv_results_for_cf = cross_val_score(cf_models, x_train, y_train, cv=kfold, scoring=scoring_cf)\n",
    "    results_of_Cf_mod.append(cv_results_for_cf)\n",
    "    names.append(name)\n",
    "    print(f'\\n\\nNames-: {name}, The Mean-: {cv_results_for_cf.mean()*100},\\nThe Std-: {cv_results_for_cf.std()*100},\\n cross_val_score-:{cv_results_for_re*100}')\n",
    "    "
   ]
  },
  {
   "cell_type": "markdown",
   "metadata": {},
   "source": [
    "Observation:\n",
    "\n",
    "           1. In Regression the Knn model has the highest mean value along with the cross val score and lowest std score\n",
    "           \n",
    "           2. But in Classification the GaussianNB has the highest mean values than the rest along with the cross vall score\n",
    "           and balanced std score"
   ]
  },
  {
   "cell_type": "markdown",
   "metadata": {},
   "source": [
    "Now, here, i have compared each models using boxplt and pyplot method to see the outliers and the Range of over each alogrithm"
   ]
  },
  {
   "cell_type": "code",
   "execution_count": 77,
   "metadata": {},
   "outputs": [
    {
     "data": {
      "image/png": "[encoded data removed]",
      "text/plain": [
       "<Figure size 1152x864 with 1 Axes>"
      ]
     },
     "metadata": {
      "needs_background": "light"
     },
     "output_type": "display_data"
    }
   ],
   "source": [
    "# Algorithm Comparison\n",
    "fig = plt.figure()\n",
    "fig.suptitle('Algorithm Comparison')\n",
    "ax = fig.add_subplot(111)\n",
    "plt.boxplot(results_of_Re_mod)\n",
    "ax.set_xticklabels(names2)\n",
    "plt.show()"
   ]
  },
  {
   "cell_type": "code",
   "execution_count": 78,
   "metadata": {},
   "outputs": [
    {
     "data": {
      "image/png": "[encoded data removed]",
      "text/plain": [
       "<Figure size 1152x864 with 1 Axes>"
      ]
     },
     "metadata": {
      "needs_background": "light"
     },
     "output_type": "display_data"
    }
   ],
   "source": [
    "# Algorithm Comparison\n",
    "fig = plt.figure()\n",
    "fig.suptitle('Algorithm Comparison')\n",
    "ax = fig.add_subplot(111)\n",
    "plt.boxplot(results_of_Cf_mod)\n",
    "ax.set_xticklabels(names)\n",
    "plt.show()"
   ]
  },
  {
   "cell_type": "markdown",
   "metadata": {},
   "source": [
    "Here, i have used pipeline method to scale each models using staderscaler in to get the best resuls and values"
   ]
  },
  {
   "cell_type": "code",
   "execution_count": 80,
   "metadata": {},
   "outputs": [
    {
     "name": "stdout",
     "output_type": "stream",
     "text": [
      "\n",
      "\n",
      "Names-: Scaled-LinearRegression, The Mean-: 38.01759350372104,\n",
      " The Std-: 9.624860094097274,\n",
      "cross_val_score-:[20.60931078 43.48989449 25.93154573 48.0318747  50.701496   25.70115463\n",
      " 43.06412325 43.81497405 40.75084186 32.54739706 43.55091601]\n",
      "\n",
      "\n",
      "Names-: Scaled-KNeighborsRegressor, The Mean-: 78.21082410880462,\n",
      " The Std-: 4.61142448853796,\n",
      "cross_val_score-:[77.24329856 80.0661309  71.76274821 71.6812137  74.04273597 81.18585991\n",
      " 84.20769308 73.53886385 83.94592327 79.19409886 83.45049887]\n",
      "\n",
      "\n",
      "Names-: Scaled-DecisionTreeRegressor, The Mean-: 65.57747357162899,\n",
      " The Std-: 11.856009312242822,\n",
      "cross_val_score-:[38.40107129 49.70120065 63.86074694 72.39578161 62.35687565 68.95280793\n",
      " 77.47815607 67.88585716 80.32106444 63.63669203 76.36195552]\n",
      "\n",
      "\n",
      "Names-: Scaled-SVR, The Mean-: 75.32570284134181,\n",
      " The Std-: 4.209300160091691,\n",
      "cross_val_score-:[70.87141092 75.04978618 69.75137089 79.68260871 74.79589913 75.80019223\n",
      " 79.44731889 71.59205298 82.567088   70.05527771 78.96972561]\n",
      "\n",
      "\n",
      "----------------------------------------------------------------------------------------\n",
      "\n",
      "\n",
      "\n",
      "\n",
      "Names-: Scaled-LogisticRegression, The Mean-: 89.7873113631582,\n",
      " The Std-: 2.2148063124465205,\n",
      "cross_val_score-:[70.87141092 75.04978618 69.75137089 79.68260871 74.79589913 75.80019223\n",
      " 79.44731889 71.59205298 82.567088   70.05527771 78.96972561]\n",
      "\n",
      "\n",
      "Names-: Scaled-KNeighborsClassifier, The Mean-: 92.76150947726795,\n",
      " The Std-: 3.2944104513305086,\n",
      "cross_val_score-:[70.87141092 75.04978618 69.75137089 79.68260871 74.79589913 75.80019223\n",
      " 79.44731889 71.59205298 82.567088   70.05527771 78.96972561]\n",
      "\n",
      "\n",
      "Names-: Scaled-DecisionTreeClassifier, The Mean-: 87.0981007210757,\n",
      " The Std-: 3.1941883879620754,\n",
      "cross_val_score-:[70.87141092 75.04978618 69.75137089 79.68260871 74.79589913 75.80019223\n",
      " 79.44731889 71.59205298 82.567088   70.05527771 78.96972561]\n",
      "\n",
      "\n",
      "Names-: Scaled-MultinomialNB, The Mean-: nan,\n",
      " The Std-: nan,\n",
      "cross_val_score-:[70.87141092 75.04978618 69.75137089 79.68260871 74.79589913 75.80019223\n",
      " 79.44731889 71.59205298 82.567088   70.05527771 78.96972561]\n",
      "\n",
      "\n",
      "Names-: Scaled-GaussianNB, The Mean-: 88.11659621674349,\n",
      " The Std-: 2.136391914637832,\n",
      "cross_val_score-:[70.87141092 75.04978618 69.75137089 79.68260871 74.79589913 75.80019223\n",
      " 79.44731889 71.59205298 82.567088   70.05527771 78.96972561]\n",
      "\n",
      "\n",
      "Names-: Scaled-SVC, The Mean-: 89.0451963353289,\n",
      " The Std-: 2.4969998185850875,\n",
      "cross_val_score-:[70.87141092 75.04978618 69.75137089 79.68260871 74.79589913 75.80019223\n",
      " 79.44731889 71.59205298 82.567088   70.05527771 78.96972561]\n"
     ]
    }
   ],
   "source": [
    "# Standardize the dataset\n",
    "pipelines_for_CF = []\n",
    "pipelines_for_Re = []\n",
    "pipelines_for_CF.append(('Scaled-LogisticRegression', Pipeline([('Scaler', StandardScaler()),('LR', LogisticRegression())])))\n",
    "pipelines_for_Re.append(('Scaled-LinearRegression', Pipeline([('Scaler', StandardScaler()),('LiR', LinearRegression())])))\n",
    "pipelines_for_CF.append(('Scaled-KNeighborsClassifier', Pipeline([('Scaler', StandardScaler()),('KNC', KNeighborsClassifier())])))\n",
    "pipelines_for_Re.append(('Scaled-KNeighborsRegressor', Pipeline([('Scaler', StandardScaler()),('KNR', KNeighborsRegressor())])))\n",
    "pipelines_for_CF.append(('Scaled-DecisionTreeClassifier', Pipeline([('Scaler', StandardScaler()),('DTC', DecisionTreeClassifier())])))\n",
    "pipelines_for_Re.append(('Scaled-DecisionTreeRegressor', Pipeline([('Scaler', StandardScaler()),('DTR', DecisionTreeRegressor())])))\n",
    "pipelines_for_CF.append(('Scaled-MultinomialNB', Pipeline([('Scaler', StandardScaler()),('MNB', MultinomialNB())])))\n",
    "pipelines_for_CF.append(('Scaled-GaussianNB', Pipeline([('Scaler', StandardScaler()),('GNB', GaussianNB())])))\n",
    "pipelines_for_CF.append(('Scaled-SVC', Pipeline([('Scaler', StandardScaler()),('SVC', SVC())])))\n",
    "pipelines_for_Re.append(('Scaled-SVR', Pipeline([('Scaler', StandardScaler()),('SVR', SVR())])))\n",
    "results_of_pip_Cf_mod = []\n",
    "results_of_pip_Re_mod = []\n",
    "pipeline_names_for_cf=[]\n",
    "pipeline_names_for_re=[]\n",
    "    \n",
    "for names_of_re, re_models in pipelines_for_Re:\n",
    "    cv_results_for_re = cross_val_score(re_models, X_train, Y_train,cv=kfold,scoring=scoring_re)\n",
    "    results_of_pip_Re_mod.append(cv_results_for_re)\n",
    "    pipeline_names_for_re.append(names_of_re)\n",
    "    print(f'\\n\\nNames-: {names_of_re}, The Mean-: {cv_results_for_re.mean()*100},\\n The Std-: {cv_results_for_re.std()*100},\\ncross_val_score-:{cv_results_for_re*100}')\n",
    "    \n",
    "print('\\n')\n",
    "print('----------------------------------------------------------------------------------------')\n",
    "print('\\n')    \n",
    "for names_of_cf, cf_models in pipelines_for_CF:\n",
    "    cv_results_for_cf = cross_val_score(cf_models, x_train, y_train, cv=kfold, scoring=scoring_cf)\n",
    "    results_of_pip_Cf_mod.append(cv_results_for_cf)\n",
    "    pipeline_names_for_cf.append(names_of_cf)\n",
    "    print(f'\\n\\nNames-: {names_of_cf}, The Mean-: {cv_results_for_cf.mean()*100},\\n The Std-: {cv_results_for_cf.std()*100},\\ncross_val_score-:{cv_results_for_re*100}')"
   ]
  },
  {
   "cell_type": "markdown",
   "metadata": {},
   "source": [
    "After using staderd scaler to the models and the difference"
   ]
  },
  {
   "cell_type": "code",
   "execution_count": 81,
   "metadata": {},
   "outputs": [
    {
     "data": {
      "image/png": "[encoded data removed]",
      "text/plain": [
       "<Figure size 1152x864 with 1 Axes>"
      ]
     },
     "metadata": {
      "needs_background": "light"
     },
     "output_type": "display_data"
    }
   ],
   "source": [
    "# Algorithm Comparison\n",
    "fig = plt.figure()\n",
    "fig.suptitle('Algorithm Comparison')\n",
    "ax = fig.add_subplot(111)\n",
    "plt.boxplot(results_of_pip_Re_mod)\n",
    "ax.set_xticklabels(pipeline_names_for_re)\n",
    "plt.show()"
   ]
  },
  {
   "cell_type": "code",
   "execution_count": 82,
   "metadata": {},
   "outputs": [
    {
     "data": {
      "image/png": "[encoded data removed]",
      "text/plain": [
       "<Figure size 1152x864 with 1 Axes>"
      ]
     },
     "metadata": {
      "needs_background": "light"
     },
     "output_type": "display_data"
    }
   ],
   "source": [
    "# Algorithm Comparison\n",
    "fig = plt.figure()\n",
    "fig.suptitle('Algorithm Comparison')\n",
    "ax = fig.add_subplot(111)\n",
    "plt.boxplot(results_of_pip_Cf_mod)\n",
    "ax.set_xticklabels(pipeline_names_for_cf)\n",
    "plt.show()"
   ]
  },
  {
   "cell_type": "markdown",
   "metadata": {},
   "source": [
    "# Ensemble Models "
   ]
  },
  {
   "cell_type": "markdown",
   "metadata": {},
   "source": [
    "In here, i am going to use ensemble models for to boost the algorithms"
   ]
  },
  {
   "cell_type": "code",
   "execution_count": 83,
   "metadata": {},
   "outputs": [
    {
     "name": "stdout",
     "output_type": "stream",
     "text": [
      "\n",
      "\n",
      "nnames-:AdaBoostRegressor, The mean-:59.0782047033384,\n",
      " The std-:2.678423150039151,\n",
      " cross_val_score-:[60.53204271 62.55158739 55.43457067 60.3847253  56.48809745]\n",
      "\n",
      "\n",
      "nnames-:GradientBoostingRegressor, The mean-:72.22657811046392,\n",
      " The std-:1.734610418407183,\n",
      " cross_val_score-:[72.19020347 71.68414719 74.76861519 69.46174607 73.02817862]\n",
      "\n",
      "\n",
      "nnames-:RandomForestRegressor, The mean-:79.39197649872747,\n",
      " The std-:2.191686180916932,\n",
      " cross_val_score-:[76.30352534 78.90811484 80.50617869 78.38695612 82.85510751]\n",
      "\n",
      "\n",
      "names-:AdaBoostClassifier, The mean-:12.90572461411931,\n",
      " The std:2.7928411780981333,\n",
      " cross_val_score-:[0.76303525 0.78908115 0.80506179 0.78386956 0.82855108]\n",
      "names-:GradientBoostingClassifier, The mean-:88.67605148901173,\n",
      " The std:2.580046092063157,\n",
      " cross_val_score-:[0.76303525 0.78908115 0.80506179 0.78386956 0.82855108]\n",
      "names-:RandomForestClassifier, The mean-:96.19570414857603,\n",
      " The std:2.263493616553264,\n",
      " cross_val_score-:[0.76303525 0.78908115 0.80506179 0.78386956 0.82855108]\n"
     ]
    }
   ],
   "source": [
    "# Ensembles Models\n",
    "ensembles_of_Cf=[]\n",
    "ensembles_of_Re=[]\n",
    "ensembles_of_Cf.append(('AdaBoostClassifier', AdaBoostClassifier()))\n",
    "ensembles_of_Re.append(('AdaBoostRegressor', AdaBoostRegressor()))\n",
    "ensembles_of_Cf.append(('GradientBoostingClassifier', GradientBoostingClassifier()))\n",
    "ensembles_of_Re.append(('GradientBoostingRegressor', GradientBoostingRegressor()))\n",
    "ensembles_of_Cf.append(('RandomForestClassifier', RandomForestClassifier()))\n",
    "ensembles_of_Re.append(('RandomForestRegressor', RandomForestRegressor()))\n",
    "results_of_Cf=[]\n",
    "results_of_Re=[]\n",
    "names=[]\n",
    "names2=[]\n",
    "# Evaluating each model in turn\n",
    "    \n",
    "for name, re_models in ensembles_of_Re:\n",
    "    cv_results_for_re = cross_val_score(re_models, X_train, Y_train,scoring=scoring_re)\n",
    "    results_of_Re_mod.append(cv_results_for_re)\n",
    "    names2.append(name)\n",
    "    print(f'\\n\\nnnames-:{name}, The mean-:{100*cv_results_for_re.mean()},\\n The std-:{100*cv_results_for_re.std()},\\n cross_val_score-:{cv_results_for_re*100}')\n",
    "\n",
    "print('\\n')\n",
    "    \n",
    "for name, cf_models in ensembles_of_Cf:\n",
    "    cv_results_for_cf = cross_val_score(cf_models, x_train, y_train, cv=kfold, scoring=scoring_cf)\n",
    "    results_of_Cf_mod.append(cv_results_for_cf)\n",
    "    names.append(name)\n",
    "    print(f'names-:{name}, The mean-:{100*cv_results_for_cf.mean()},\\n The std:{100*cv_results_for_cf.std()},\\n cross_val_score-:{cv_results_for_re}')"
   ]
  },
  {
   "cell_type": "markdown",
   "metadata": {},
   "source": [
    "So from the above analysis and test i have chossen KNeighbors for both Regression and Classification model"
   ]
  },
  {
   "cell_type": "markdown",
   "metadata": {},
   "source": [
    "# Best Algorithm Parameter chosing for KNeighbors"
   ]
  },
  {
   "cell_type": "markdown",
   "metadata": {},
   "source": [
    "Here, i'll be using Gridsearch cv for both model to find out the best parameters for these models"
   ]
  },
  {
   "cell_type": "code",
   "execution_count": 87,
   "metadata": {},
   "outputs": [
    {
     "name": "stdout",
     "output_type": "stream",
     "text": [
      "Best0.9545167645314921, by Using {'n_neighbors': 1}\n",
      "\n",
      "\n",
      "mean-:0.9545167645314921,\n",
      " stdev-:0.021893570032763883,\n",
      " param-:{'n_neighbors': 1}\n",
      "\n",
      "\n",
      "mean-:0.9433563491000899,\n",
      " stdev-:0.020589864466135203,\n",
      " param-:{'n_neighbors': 2}\n",
      "\n",
      "\n",
      "mean-:0.9498689822695716,\n",
      " stdev-:0.018158902836453043,\n",
      " param-:{'n_neighbors': 3}\n",
      "\n",
      "\n",
      "mean-:0.9294608190042652,\n",
      " stdev-:0.025864096650282695,\n",
      " param-:{'n_neighbors': 4}\n",
      "\n",
      "\n",
      "mean-:0.9248321634183195,\n",
      " stdev-:0.035651469866734134,\n",
      " param-:{'n_neighbors': 5}\n",
      "\n",
      "\n",
      "mean-:0.9220301053879847,\n",
      " stdev-:0.025422126235050233,\n",
      " param-:{'n_neighbors': 6}\n",
      "\n",
      "\n",
      "mean-:0.9220396687259722,\n",
      " stdev-:0.028572603702116325,\n",
      " param-:{'n_neighbors': 7}\n",
      "\n",
      "\n",
      "mean-:0.9071686781554235,\n",
      " stdev-:0.028300471845589134,\n",
      " param-:{'n_neighbors': 8}\n",
      "\n",
      "\n",
      "mean-:0.9015932521087161,\n",
      " stdev-:0.026871247397541133,\n",
      " param-:{'n_neighbors': 9}\n",
      "\n",
      "\n",
      "mean-:0.8830403764129833,\n",
      " stdev-:0.034557687845794646,\n",
      " param-:{'n_neighbors': 10}\n"
     ]
    }
   ],
   "source": [
    "#KNeighborsClassifier algorithm \n",
    "ST_scaler=StandardScaler().fit(x_train)\n",
    "rescaledstx=ST_scaler.transform(x_train)\n",
    "model=KNeighborsClassifier()\n",
    "neighbors=[1,2,3,4,5,6,7,8,9,10]\n",
    "KNN_ParamGrid=dict(n_neighbors=neighbors)\n",
    "gs_for_knn=GridSearchCV(estimator=model, param_grid=KNN_ParamGrid, cv=kfold,scoring=scoring_cf)\n",
    "GSCV_result_for_KNN=gs_for_knn.fit(rescaledstx, y_train)\n",
    "print(f'Best{GSCV_result_for_KNN.best_score_}, by Using {GSCV_result_for_KNN.best_params_}')\n",
    "means = GSCV_result_for_KNN.cv_results_['mean_test_score']\n",
    "stds = GSCV_result_for_KNN.cv_results_['std_test_score']\n",
    "params = GSCV_result_for_KNN.cv_results_['params']\n",
    "for mean, stdev, param in zip(means, stds, params):\n",
    "    print(f'\\n\\nmean-:{mean},\\n stdev-:{stdev},\\n param-:{param}')"
   ]
  },
  {
   "cell_type": "markdown",
   "metadata": {},
   "source": [
    "What i have got from GSCV, the best parameter for KNeighborsClassifier is {neighbors:1}"
   ]
  },
  {
   "cell_type": "code",
   "execution_count": 88,
   "metadata": {},
   "outputs": [
    {
     "name": "stdout",
     "output_type": "stream",
     "text": [
      "Best0.8064568358696182, by Using {'n_neighbors': 3}\n",
      "\n",
      "\n",
      "\n",
      "\n",
      "mean-:0.7803311634548642, \n",
      "stdev-:0.04958388322998973,\n",
      " param-:{'n_neighbors': 1}\n",
      "\n",
      "\n",
      "mean-:0.8062068479299653, \n",
      "stdev-:0.0423381714100763,\n",
      " param-:{'n_neighbors': 2}\n",
      "\n",
      "\n",
      "mean-:0.8064568358696182, \n",
      "stdev-:0.03919317606090181,\n",
      " param-:{'n_neighbors': 3}\n",
      "\n",
      "\n",
      "mean-:0.7995535945177813, \n",
      "stdev-:0.03752517104795579,\n",
      " param-:{'n_neighbors': 4}\n",
      "\n",
      "\n",
      "mean-:0.7824034843971052, \n",
      "stdev-:0.047021657038903916,\n",
      " param-:{'n_neighbors': 5}\n",
      "\n",
      "\n",
      "mean-:0.7725891102555422, \n",
      "stdev-:0.0522730426650306,\n",
      " param-:{'n_neighbors': 6}\n",
      "\n",
      "\n",
      "mean-:0.7559564656298449, \n",
      "stdev-:0.05841215273266982,\n",
      " param-:{'n_neighbors': 7}\n",
      "\n",
      "\n",
      "mean-:0.7398184447620793, \n",
      "stdev-:0.05720065867211382,\n",
      " param-:{'n_neighbors': 8}\n",
      "\n",
      "\n",
      "mean-:0.7275094899738099, \n",
      "stdev-:0.058558278096991566,\n",
      " param-:{'n_neighbors': 9}\n",
      "\n",
      "\n",
      "mean-:0.7127839281601984, \n",
      "stdev-:0.05797250593991486,\n",
      " param-:{'n_neighbors': 10}\n"
     ]
    }
   ],
   "source": [
    "#KNeighborsRegressor algorithm \n",
    "ST_scaler=StandardScaler().fit(X_train)\n",
    "rescaledstX=ST_scaler.transform(X_train)\n",
    "neighbors=[1,2,3,4,5,6,7,8,9,10]\n",
    "KNN_ParamGrid=dict(n_neighbors=neighbors)\n",
    "model=KNeighborsRegressor()\n",
    "gs_for_knn=GridSearchCV(estimator=model, param_grid=KNN_ParamGrid,cv=kfold,scoring=scoring_re)\n",
    "GSCV_result_for_KNN=gs_for_knn.fit(rescaledstX, Y_train)\n",
    "print(f'Best{GSCV_result_for_KNN.best_score_}, by Using {GSCV_result_for_KNN.best_params_}')\n",
    "print('\\n')\n",
    "means = GSCV_result_for_KNN.cv_results_['mean_test_score']\n",
    "stds = GSCV_result_for_KNN.cv_results_['std_test_score']\n",
    "params = GSCV_result_for_KNN.cv_results_['params']\n",
    "for mean, stdev, param in zip(means, stds, params):\n",
    "    print(f'\\n\\nmean-:{mean}, \\nstdev-:{stdev},\\n param-:{param}')"
   ]
  },
  {
   "cell_type": "markdown",
   "metadata": {},
   "source": [
    "And in here What i have got from GSCV, the best parameter for KNeighborsClassifier is {neighbors:1}"
   ]
  },
  {
   "cell_type": "markdown",
   "metadata": {},
   "source": [
    "# Final Model Preparing"
   ]
  },
  {
   "cell_type": "code",
   "execution_count": 89,
   "metadata": {},
   "outputs": [
    {
     "name": "stdout",
     "output_type": "stream",
     "text": [
      "0.0600928505106778\n",
      "0.006369668833178582\n",
      "\n",
      "\n",
      "0.8237413103231542\n"
     ]
    }
   ],
   "source": [
    "# Preparing the model for Regressor\n",
    "scaler = StandardScaler().fit(X_train)\n",
    "rescaledX = scaler.transform(X_train)\n",
    "Knn_Re = KNeighborsRegressor(n_neighbors=3)\n",
    "Knn_Re.fit(rescaledX, Y_train)\n",
    "# Transform the validation dataset and predict\n",
    "rescaledtestX = scaler.transform(X_test)\n",
    "predictions = Knn_Re.predict(rescaledtestX)\n",
    "print(mean_absolute_error(Y_test, predictions))\n",
    "print(mean_squared_error(Y_test, predictions))\n",
    "print('\\n')\n",
    "print(r2_score(Y_test, predictions))"
   ]
  },
  {
   "cell_type": "code",
   "execution_count": 90,
   "metadata": {},
   "outputs": [
    {
     "name": "stdout",
     "output_type": "stream",
     "text": [
      "0.9777158774373259\n",
      "[[14  0  0 ...  0  0  0]\n",
      " [ 0 15  0 ...  0  0  0]\n",
      " [ 0  0 12 ...  0  0  0]\n",
      " ...\n",
      " [ 0  0  0 ...  8  0  0]\n",
      " [ 0  0  0 ...  0  7  0]\n",
      " [ 0  0  0 ...  0  0  7]]\n",
      "\n",
      "\n",
      "              precision    recall  f1-score   support\n",
      "\n",
      "           0       1.00      0.93      0.97        15\n",
      "           1       1.00      1.00      1.00        15\n",
      "           2       1.00      1.00      1.00        12\n",
      "           3       1.00      1.00      1.00        13\n",
      "           4       1.00      0.95      0.97        20\n",
      "           5       1.00      1.00      1.00         7\n",
      "           6       1.00      1.00      1.00         9\n",
      "           7       1.00      1.00      1.00         9\n",
      "           8       1.00      1.00      1.00         8\n",
      "           9       1.00      1.00      1.00         6\n",
      "          10       1.00      1.00      1.00         3\n",
      "          11       1.00      1.00      1.00         7\n",
      "          12       1.00      1.00      1.00        11\n",
      "          13       1.00      1.00      1.00         5\n",
      "          14       1.00      1.00      1.00         3\n",
      "          15       0.80      1.00      0.89         4\n",
      "          16       1.00      1.00      1.00         2\n",
      "          17       0.83      0.83      0.83         6\n",
      "          18       0.75      1.00      0.86         3\n",
      "          19       1.00      1.00      1.00        14\n",
      "          20       1.00      1.00      1.00         3\n",
      "          22       0.88      1.00      0.93         7\n",
      "          23       1.00      1.00      1.00         4\n",
      "          24       1.00      1.00      1.00         1\n",
      "          25       1.00      1.00      1.00         7\n",
      "          26       1.00      1.00      1.00        11\n",
      "          27       1.00      1.00      1.00         3\n",
      "          28       1.00      1.00      1.00         7\n",
      "          29       0.67      1.00      0.80         4\n",
      "          30       1.00      1.00      1.00         6\n",
      "          31       0.92      0.86      0.89        14\n",
      "          32       1.00      0.83      0.91         6\n",
      "          33       1.00      1.00      1.00         7\n",
      "          34       1.00      1.00      1.00         9\n",
      "          35       1.00      1.00      1.00         3\n",
      "          36       1.00      1.00      1.00         4\n",
      "          37       1.00      1.00      1.00         5\n",
      "          38       1.00      1.00      1.00        11\n",
      "          39       1.00      1.00      1.00         4\n",
      "          41       1.00      1.00      1.00         9\n",
      "          42       1.00      1.00      1.00        10\n",
      "          43       1.00      1.00      1.00         2\n",
      "          44       1.00      1.00      1.00        15\n",
      "          45       1.00      1.00      1.00         5\n",
      "          46       1.00      1.00      1.00         6\n",
      "          47       1.00      0.80      0.89        10\n",
      "          48       1.00      1.00      1.00         7\n",
      "          49       0.88      1.00      0.93         7\n",
      "\n",
      "    accuracy                           0.98       359\n",
      "   macro avg       0.97      0.98      0.98       359\n",
      "weighted avg       0.98      0.98      0.98       359\n",
      "\n"
     ]
    }
   ],
   "source": [
    "# Preparing the model for Classification\n",
    "scaler = StandardScaler().fit(x_train)\n",
    "rescaledx = scaler.transform(x_train)\n",
    "Knn_Cf = KNeighborsClassifier(n_neighbors=1)\n",
    "Knn_Cf.fit(rescaledx, y_train)\n",
    "# Transform the validation dataset and predict\n",
    "rescaledtestx = scaler.transform(x_test)\n",
    "predictions = Knn_Cf.predict(rescaledtestx)\n",
    "print(accuracy_score(y_test, predictions))\n",
    "print(confusion_matrix(y_test, predictions))\n",
    "print('\\n')\n",
    "print(classification_report(y_test, predictions))"
   ]
  },
  {
   "cell_type": "markdown",
   "metadata": {},
   "source": [
    "# As we can see here, that my two models, one on classfication and other on reggresion both of my models are giving above 80% accuracy which under-\n",
    "\n",
    "1.KNeighborsRegressor\n",
    "\n",
    "2.KNeighborsClassifier"
   ]
  },
  {
   "cell_type": "markdown",
   "metadata": {},
   "source": [
    "# Model saving"
   ]
  },
  {
   "cell_type": "code",
   "execution_count": 91,
   "metadata": {},
   "outputs": [],
   "source": [
    "import pickle\n",
    "filename_for_reggression='Avocado_dataset_Regression.pkl'\n",
    "filename_for_classification='Avocado_dataset_classification.pkl'\n",
    "pickle.dump(Knn_Re,open(filename_for_reggression,'wb'))\n",
    "pickle.dump(KNeighborsClassifier,open(filename_for_classification,'wb'))"
   ]
  },
  {
   "cell_type": "markdown",
   "metadata": {},
   "source": [
    "# Conclusion:-"
   ]
  },
  {
   "cell_type": "code",
   "execution_count": 92,
   "metadata": {},
   "outputs": [],
   "source": [
    "a=np.array(Y_test)\n",
    "b=np.array(y_test)\n",
    "predicted_X=np.array(Knn_Re.predict(rescaledtestX))\n",
    "predicted_x=np.array(Knn_Cf.predict(rescaledtestx))"
   ]
  },
  {
   "cell_type": "code",
   "execution_count": 93,
   "metadata": {},
   "outputs": [],
   "source": [
    "df_Re=pd.DataFrame({'oiginal':a,'predicted':predicted_X}, index=range(len(a)))"
   ]
  },
  {
   "cell_type": "code",
   "execution_count": 94,
   "metadata": {},
   "outputs": [],
   "source": [
    "df_Cf=pd.DataFrame({'oiginal':b,'predicted':predicted_x},index=range(len(a)))"
   ]
  },
  {
   "cell_type": "code",
   "execution_count": 95,
   "metadata": {},
   "outputs": [
    {
     "data": {
      "text/html": [
       "<div>\n",
       "<style scoped>\n",
       "    .dataframe tbody tr th:only-of-type {\n",
       "        vertical-align: middle;\n",
       "    }\n",
       "\n",
       "    .dataframe tbody tr th {\n",
       "        vertical-align: top;\n",
       "    }\n",
       "\n",
       "    .dataframe thead th {\n",
       "        text-align: right;\n",
       "    }\n",
       "</style>\n",
       "<table border=\"1\" class=\"dataframe\">\n",
       "  <thead>\n",
       "    <tr style=\"text-align: right;\">\n",
       "      <th></th>\n",
       "      <th>oiginal</th>\n",
       "      <th>predicted</th>\n",
       "    </tr>\n",
       "  </thead>\n",
       "  <tbody>\n",
       "    <tr>\n",
       "      <th>0</th>\n",
       "      <td>1.05</td>\n",
       "      <td>0.900000</td>\n",
       "    </tr>\n",
       "    <tr>\n",
       "      <th>1</th>\n",
       "      <td>1.03</td>\n",
       "      <td>1.113333</td>\n",
       "    </tr>\n",
       "    <tr>\n",
       "      <th>2</th>\n",
       "      <td>1.03</td>\n",
       "      <td>1.106667</td>\n",
       "    </tr>\n",
       "    <tr>\n",
       "      <th>3</th>\n",
       "      <td>0.65</td>\n",
       "      <td>0.620000</td>\n",
       "    </tr>\n",
       "    <tr>\n",
       "      <th>4</th>\n",
       "      <td>1.30</td>\n",
       "      <td>1.180000</td>\n",
       "    </tr>\n",
       "    <tr>\n",
       "      <th>...</th>\n",
       "      <td>...</td>\n",
       "      <td>...</td>\n",
       "    </tr>\n",
       "    <tr>\n",
       "      <th>354</th>\n",
       "      <td>1.10</td>\n",
       "      <td>1.120000</td>\n",
       "    </tr>\n",
       "    <tr>\n",
       "      <th>355</th>\n",
       "      <td>1.17</td>\n",
       "      <td>1.243333</td>\n",
       "    </tr>\n",
       "    <tr>\n",
       "      <th>356</th>\n",
       "      <td>1.25</td>\n",
       "      <td>1.133333</td>\n",
       "    </tr>\n",
       "    <tr>\n",
       "      <th>357</th>\n",
       "      <td>1.19</td>\n",
       "      <td>1.020000</td>\n",
       "    </tr>\n",
       "    <tr>\n",
       "      <th>358</th>\n",
       "      <td>1.04</td>\n",
       "      <td>1.056667</td>\n",
       "    </tr>\n",
       "  </tbody>\n",
       "</table>\n",
       "<p>359 rows × 2 columns</p>\n",
       "</div>"
      ],
      "text/plain": [
       "     oiginal  predicted\n",
       "0       1.05   0.900000\n",
       "1       1.03   1.113333\n",
       "2       1.03   1.106667\n",
       "3       0.65   0.620000\n",
       "4       1.30   1.180000\n",
       "..       ...        ...\n",
       "354     1.10   1.120000\n",
       "355     1.17   1.243333\n",
       "356     1.25   1.133333\n",
       "357     1.19   1.020000\n",
       "358     1.04   1.056667\n",
       "\n",
       "[359 rows x 2 columns]"
      ]
     },
     "execution_count": 95,
     "metadata": {},
     "output_type": "execute_result"
    }
   ],
   "source": [
    "df_Re"
   ]
  },
  {
   "cell_type": "code",
   "execution_count": 96,
   "metadata": {},
   "outputs": [
    {
     "data": {
      "text/html": [
       "<div>\n",
       "<style scoped>\n",
       "    .dataframe tbody tr th:only-of-type {\n",
       "        vertical-align: middle;\n",
       "    }\n",
       "\n",
       "    .dataframe tbody tr th {\n",
       "        vertical-align: top;\n",
       "    }\n",
       "\n",
       "    .dataframe thead th {\n",
       "        text-align: right;\n",
       "    }\n",
       "</style>\n",
       "<table border=\"1\" class=\"dataframe\">\n",
       "  <thead>\n",
       "    <tr style=\"text-align: right;\">\n",
       "      <th></th>\n",
       "      <th>oiginal</th>\n",
       "      <th>predicted</th>\n",
       "    </tr>\n",
       "  </thead>\n",
       "  <tbody>\n",
       "    <tr>\n",
       "      <th>0</th>\n",
       "      <td>41</td>\n",
       "      <td>41</td>\n",
       "    </tr>\n",
       "    <tr>\n",
       "      <th>1</th>\n",
       "      <td>4</td>\n",
       "      <td>4</td>\n",
       "    </tr>\n",
       "    <tr>\n",
       "      <th>2</th>\n",
       "      <td>29</td>\n",
       "      <td>29</td>\n",
       "    </tr>\n",
       "    <tr>\n",
       "      <th>3</th>\n",
       "      <td>15</td>\n",
       "      <td>15</td>\n",
       "    </tr>\n",
       "    <tr>\n",
       "      <th>4</th>\n",
       "      <td>35</td>\n",
       "      <td>35</td>\n",
       "    </tr>\n",
       "    <tr>\n",
       "      <th>...</th>\n",
       "      <td>...</td>\n",
       "      <td>...</td>\n",
       "    </tr>\n",
       "    <tr>\n",
       "      <th>354</th>\n",
       "      <td>44</td>\n",
       "      <td>44</td>\n",
       "    </tr>\n",
       "    <tr>\n",
       "      <th>355</th>\n",
       "      <td>42</td>\n",
       "      <td>42</td>\n",
       "    </tr>\n",
       "    <tr>\n",
       "      <th>356</th>\n",
       "      <td>35</td>\n",
       "      <td>35</td>\n",
       "    </tr>\n",
       "    <tr>\n",
       "      <th>357</th>\n",
       "      <td>44</td>\n",
       "      <td>44</td>\n",
       "    </tr>\n",
       "    <tr>\n",
       "      <th>358</th>\n",
       "      <td>7</td>\n",
       "      <td>7</td>\n",
       "    </tr>\n",
       "  </tbody>\n",
       "</table>\n",
       "<p>359 rows × 2 columns</p>\n",
       "</div>"
      ],
      "text/plain": [
       "     oiginal  predicted\n",
       "0         41         41\n",
       "1          4          4\n",
       "2         29         29\n",
       "3         15         15\n",
       "4         35         35\n",
       "..       ...        ...\n",
       "354       44         44\n",
       "355       42         42\n",
       "356       35         35\n",
       "357       44         44\n",
       "358        7          7\n",
       "\n",
       "[359 rows x 2 columns]"
      ]
     },
     "execution_count": 96,
     "metadata": {},
     "output_type": "execute_result"
    }
   ],
   "source": [
    "df_Cf"
   ]
  },
  {
   "cell_type": "code",
   "execution_count": null,
   "metadata": {},
   "outputs": [],
   "source": []
  }
 ],
 "metadata": {
  "kernelspec": {
   "display_name": "Python 3",
   "language": "python",
   "name": "python3"
  },
  "language_info": {
   "codemirror_mode": {
    "name": "ipython",
    "version": 3
   },
   "file_extension": ".py",
   "mimetype": "text/x-python",
   "name": "python",
   "nbconvert_exporter": "python",
   "pygments_lexer": "ipython3",
   "version": "3.8.5"
  }
 },
 "nbformat": 4,
 "nbformat_minor": 4
}
